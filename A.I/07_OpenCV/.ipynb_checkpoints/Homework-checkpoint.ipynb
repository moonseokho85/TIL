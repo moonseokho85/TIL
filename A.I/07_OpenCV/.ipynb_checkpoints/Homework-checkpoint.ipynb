{
 "cells": [
  {
   "cell_type": "code",
   "execution_count": 19,
   "metadata": {},
   "outputs": [
    {
     "name": "stdout",
     "output_type": "stream",
     "text": [
      "img_fg.shape:  (120, 98, 4)\n",
      "img_bg.shape:  (450, 600, 3)\n"
     ]
    }
   ],
   "source": [
    "%matplotlib inline\n",
    "import cv2\n",
    "import numpy as np\n",
    "import matplotlib.pyplot as plt\n",
    "\n",
    "# 합성에 사용할 이미지를 알파채널이 있게 엽니다.\n",
    "img_fg = cv2.imread('img/opencv_logo.png', cv2.IMREAD_UNCHANGED)\n",
    "print('img_fg.shape: ', img_fg.shape)\n",
    "\n",
    "# 배경이미지를 엽니다. \n",
    "img_bg = cv2.imread('img/mountain.jpg')\n",
    "print('img_bg.shape: ', img_bg.shape)\n",
    "\n",
    "# 배경 이미지에 텍스트를 삽입합니다.\n",
    "image = cv2.putText(img_bg, 'name: SeokHoMoon', (50, 250), cv2.FONT_ITALIC, 1, (0, 200, 255))\n",
    "image = cv2.putText(img_bg, 'email: mseokho7733@gmail.com', (50, 325), cv2.FONT_ITALIC, 1, (0, 200, 255))\n",
    "image = cv2.putText(img_bg, 'Hello World', (50, 400), cv2.FONT_ITALIC, 1, (0, 200, 255))\n",
    "\n",
    "# 알파채널을 이용해서 마스크와 역마스크를 생성합니다.\n",
    "_, mask = cv2.threshold(img_fg[:,:,3], 1, 255, cv2.THRESH_BINARY)\n",
    "mask_inv = cv2.bitwise_not(mask)\n",
    "\n",
    "# 전경 영상 크기로 배경 영상에서 ROI를 잘라냅니다.\n",
    "img_fg = cv2.cvtColor(img_fg, cv2.COLOR_BGRA2BGR)\n",
    "h, w = img_fg.shape[:2]\n",
    "roi = img_bg[10: 10+h, 10: 10+w]\n",
    "\n",
    "# 마스크를 이용해서 오려냅니다.\n",
    "masked_fg = cv2.bitwise_and(img_fg, img_fg, mask = mask)\n",
    "masked_bg = cv2.bitwise_and(roi, roi, mask = mask_inv)\n",
    "\n",
    "# 이미지를 합성합니다.\n",
    "added = masked_fg + masked_bg\n",
    "img_bg[10:10+h, 10:10+w] = added\n",
    "\n",
    "# jupyter notebook 안에 결과를 도출합니다.\n",
    "# plt.title('mask')\n",
    "# plt.imshow(cv2.cvtColor(mask, cv2.COLOR_BGR2RGB))\n",
    "# plt.show()\n",
    "\n",
    "# plt.title('mask_inv')\n",
    "# plt.imshow(cv2.cvtColor(mask_inv, cv2.COLOR_BGR2RGB))\n",
    "# plt.show()\n",
    "\n",
    "# plt.title('masked_fg')\n",
    "# plt.imshow(cv2.cvtColor(masked_fg, cv2.COLOR_BGR2RGB))\n",
    "# plt.show()\n",
    "\n",
    "# plt.title('masked_bg')\n",
    "# plt.imshow(cv2.cvtColor(masked_bg, cv2.COLOR_BGR2RGB))\n",
    "# plt.show()\n",
    "\n",
    "# plt.title('added')\n",
    "# plt.imshow(cv2.cvtColor(added, cv2.COLOR_BGR2RGB))\n",
    "# plt.show()\n",
    "\n",
    "# plt.title('result')\n",
    "# plt.imshow(cv2.cvtColor(img_bg, cv2.COLOR_BGR2RGB))\n",
    "# plt.show()\n",
    "\n",
    "# 창을 띄워 결과를 도출합니다.\n",
    "cv2.imshow('mask', mask)\n",
    "cv2.imshow('mask_inv', mask_inv)\n",
    "cv2.imshow('masked_fg', masked_fg)\n",
    "cv2.imshow('masked_bg', masked_bg)\n",
    "cv2.imshow('added', added)\n",
    "cv2.imshow('result', img_bg)\n",
    "cv2.waitKey()\n",
    "cv2.destroyAllWindows() "
   ]
  },
  {
   "cell_type": "code",
   "execution_count": null,
   "metadata": {},
   "outputs": [],
   "source": []
  }
 ],
 "metadata": {
  "kernelspec": {
   "display_name": "Python 3",
   "language": "python",
   "name": "python3"
  },
  "language_info": {
   "codemirror_mode": {
    "name": "ipython",
    "version": 3
   },
   "file_extension": ".py",
   "mimetype": "text/x-python",
   "name": "python",
   "nbconvert_exporter": "python",
   "pygments_lexer": "ipython3",
   "version": "3.7.3"
  }
 },
 "nbformat": 4,
 "nbformat_minor": 2
}
