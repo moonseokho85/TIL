{
 "cells": [
  {
   "cell_type": "code",
   "execution_count": 1,
   "metadata": {
    "colab": {
     "base_uri": "https://localhost:8080/",
     "height": 81
    },
    "colab_type": "code",
    "executionInfo": {
     "elapsed": 2699,
     "status": "ok",
     "timestamp": 1579088898716,
     "user": {
      "displayName": "문석호",
      "photoUrl": "https://lh5.googleusercontent.com/-S41Eymyzw50/AAAAAAAAAAI/AAAAAAAAErI/39dbJ0N5na4/s64/photo.jpg",
      "userId": "02576687641258520797"
     },
     "user_tz": -540
    },
    "id": "lqc4pEPIs5YA",
    "outputId": "8385c956-d020-4f24-f050-9a025b520fa2"
   },
   "outputs": [
    {
     "name": "stderr",
     "output_type": "stream",
     "text": [
      "Using TensorFlow backend.\n"
     ]
    },
    {
     "name": "stdout",
     "output_type": "stream",
     "text": [
      "WARNING:tensorflow:From C:\\Users\\mseok\\user\\lib\\site-packages\\tensorflow\\python\\ops\\resource_variable_ops.py:435: colocate_with (from tensorflow.python.framework.ops) is deprecated and will be removed in a future version.\n",
      "Instructions for updating:\n",
      "Colocations handled automatically by placer.\n",
      "WARNING:tensorflow:From C:\\Users\\mseok\\user\\lib\\site-packages\\tensorflow\\python\\ops\\math_ops.py:3066: to_int32 (from tensorflow.python.ops.math_ops) is deprecated and will be removed in a future version.\n",
      "Instructions for updating:\n",
      "Use tf.cast instead.\n",
      "model:  <keras.engine.sequential.Sequential object at 0x000001D702203F98>\n"
     ]
    }
   ],
   "source": [
    "from keras.models import load_model\n",
    "\n",
    "model = load_model('creig_and_evans_1.h5')\n",
    "\n",
    "print('model: ', model)"
   ]
  },
  {
   "cell_type": "code",
   "execution_count": 2,
   "metadata": {
    "colab": {},
    "colab_type": "code",
    "id": "ZYf9O5QQtMt2"
   },
   "outputs": [],
   "source": [
    "import cv2, copy\n",
    "import numpy as np\n",
    "\n",
    "cap = cv2.VideoCapture('videos/Knivesout.mp4')\n",
    "\n",
    "face_cascade = cv2.CascadeClassifier('haarcascade_frontface.xml')\n",
    "\n",
    "font = cv2.FONT_HERSHEY_SIMPLEX\n",
    "\n",
    "while True:\n",
    "    \n",
    "    is_ok, frame = cap.read()\n",
    "        \n",
    "    frame = cv2.resize(frame, (1280//2, 720//2))\n",
    "    \n",
    "    frame2 = copy.copy(frame)\n",
    "    \n",
    "    grayframe = cv2.cvtColor(frame2, cv2.COLOR_BGR2GRAY)\n",
    "    \n",
    "    faces = face_cascade.detectMultiScale(grayframe)\n",
    "    \n",
    "    # 얼굴을 검출하지 못하면 종료합니다.\n",
    "    if len(faces) == 0:\n",
    "        quit()\n",
    "    \n",
    "    for (x,y,w,h) in faces:\n",
    "        \n",
    "        roi = frame2[y:y+h, x:x+w]\n",
    "        \n",
    "        imagex = cv2.resize(roi, (150, 150))\n",
    "        \n",
    "        image_data = imagex.reshape(1, 150, 150, 3)\n",
    "        \n",
    "        pred_y = model.predict(image_data)\n",
    "        \n",
    "        print('pred_y: ', pred_y)\n",
    "        \n",
    "        if np.argmax(pred_y) == 0: # argmax를 통해 카테고리를 정합니다.\n",
    "            \n",
    "            cv2.rectangle(frame2,(x,y),(x+w,y+h),(255,0,0), thickness=2)\n",
    "        \n",
    "            cv2.putText(frame2, 'Daniel Creig', (x-5, y-5), font, 0.5, (255,255,0), 2)\n",
    "            \n",
    "        elif np.argmax(pred_y) == 1:\n",
    "            \n",
    "            cv2.rectangle(frame2, (x, y), (x+w, y+h), (255, 0, 0), thickness=2)\n",
    "            \n",
    "            cv2.putText(frame2, 'Chris Evans', (x-5, y-5), font, 0.5, (255, 255, 0), 2)\n",
    "    \n",
    "    cv2.imshow('Video',frame2)\n",
    "\n",
    "    if cv2.waitKey(1) == 27: # 27 --> esc 키\n",
    "        break\n",
    "    \n",
    "cap.release()\n",
    "cv2.destroyAllWindows()"
   ]
  },
  {
   "cell_type": "code",
   "execution_count": null,
   "metadata": {},
   "outputs": [],
   "source": []
  }
 ],
 "metadata": {
  "accelerator": "GPU",
  "colab": {
   "authorship_tag": "ABX9TyP59q2f/PvBVCGRY40jodPF",
   "name": "Face_Detection_in_video.ipynb",
   "provenance": []
  },
  "kernelspec": {
   "display_name": "Python 3",
   "language": "python",
   "name": "python3"
  },
  "language_info": {
   "codemirror_mode": {
    "name": "ipython",
    "version": 3
   },
   "file_extension": ".py",
   "mimetype": "text/x-python",
   "name": "python",
   "nbconvert_exporter": "python",
   "pygments_lexer": "ipython3",
   "version": "3.7.3"
  }
 },
 "nbformat": 4,
 "nbformat_minor": 1
}
