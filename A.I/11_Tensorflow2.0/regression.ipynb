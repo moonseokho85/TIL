{
  "nbformat": 4,
  "nbformat_minor": 0,
  "metadata": {
    "colab": {
      "name": "regression.ipynb",
      "provenance": [],
      "collapsed_sections": [],
      "toc_visible": true
    },
    "kernelspec": {
      "name": "python3",
      "display_name": "Python 3"
    }
  },
  "cells": [
    {
      "cell_type": "code",
      "metadata": {
        "id": "4ULWavB8H1_f",
        "colab_type": "code",
        "colab": {}
      },
      "source": [
        "from __future__ import absolute_import, division, print_function, unicode_literals"
      ],
      "execution_count": 0,
      "outputs": []
    },
    {
      "cell_type": "markdown",
      "metadata": {
        "id": "1Uy-KGdCINZm",
        "colab_type": "text"
      },
      "source": [
        "## Pathlib\n",
        "pathlib 모듈의 기본 아이디어는 파일시스템 경로를 단순한 문자열이 아니라 객체로 다루는 것입니다."
      ]
    },
    {
      "cell_type": "code",
      "metadata": {
        "id": "jxB3nU1DIAVU",
        "colab_type": "code",
        "colab": {}
      },
      "source": [
        "import pathlib"
      ],
      "execution_count": 0,
      "outputs": []
    },
    {
      "cell_type": "code",
      "metadata": {
        "id": "qoPH1_GXIQ6c",
        "colab_type": "code",
        "colab": {}
      },
      "source": [
        "import matplotlib.pyplot as plt"
      ],
      "execution_count": 0,
      "outputs": []
    },
    {
      "cell_type": "code",
      "metadata": {
        "id": "GwEuStuQIT6N",
        "colab_type": "code",
        "colab": {}
      },
      "source": [
        "import pandas as pd"
      ],
      "execution_count": 0,
      "outputs": []
    },
    {
      "cell_type": "code",
      "metadata": {
        "id": "wkqI63oVIVS-",
        "colab_type": "code",
        "colab": {}
      },
      "source": [
        "import seaborn as sns"
      ],
      "execution_count": 0,
      "outputs": []
    },
    {
      "cell_type": "code",
      "metadata": {
        "id": "wi-Lf2v1IX96",
        "colab_type": "code",
        "colab": {}
      },
      "source": [
        "try:\n",
        "  # Colab only:\n",
        "  %tensorflow_version 2.x\n",
        "except Exception:\n",
        "  pass"
      ],
      "execution_count": 0,
      "outputs": []
    },
    {
      "cell_type": "code",
      "metadata": {
        "id": "CdRCGnR1IeNX",
        "colab_type": "code",
        "colab": {}
      },
      "source": [
        "import tensorflow as tf"
      ],
      "execution_count": 0,
      "outputs": []
    },
    {
      "cell_type": "code",
      "metadata": {
        "id": "t33B22h9Igml",
        "colab_type": "code",
        "colab": {}
      },
      "source": [
        "from tensorflow import keras"
      ],
      "execution_count": 0,
      "outputs": []
    },
    {
      "cell_type": "code",
      "metadata": {
        "id": "3r5RXO27Ii0h",
        "colab_type": "code",
        "colab": {}
      },
      "source": [
        "from tensorflow.keras import layers"
      ],
      "execution_count": 0,
      "outputs": []
    },
    {
      "cell_type": "code",
      "metadata": {
        "id": "JeVyRD8uImBB",
        "colab_type": "code",
        "outputId": "17b8b43e-8304-4d63-a4f3-44a649ebab52",
        "colab": {
          "base_uri": "https://localhost:8080/",
          "height": 36
        }
      },
      "source": [
        "print(tf.__version__)"
      ],
      "execution_count": 37,
      "outputs": [
        {
          "output_type": "stream",
          "text": [
            "2.1.0\n"
          ],
          "name": "stdout"
        }
      ]
    },
    {
      "cell_type": "markdown",
      "metadata": {
        "id": "zfaZjSbeIvRz",
        "colab_type": "text"
      },
      "source": [
        "# Auto MPG 데이터셋"
      ]
    },
    {
      "cell_type": "markdown",
      "metadata": {
        "id": "j_XeHoOcIzBK",
        "colab_type": "text"
      },
      "source": [
        "#### 데이터 구하기"
      ]
    },
    {
      "cell_type": "code",
      "metadata": {
        "id": "5xgosWSdIpTD",
        "colab_type": "code",
        "colab": {}
      },
      "source": [
        "dataset_path = keras.utils.get_file(\"auto-mpg.data\", \"http://archive.ics.uci.edu/ml/machine-learning-databases/auto-mpg/auto-mpg.data\")"
      ],
      "execution_count": 0,
      "outputs": []
    },
    {
      "cell_type": "code",
      "metadata": {
        "id": "dAwXC_q7JGZ-",
        "colab_type": "code",
        "outputId": "63e02a65-10ea-4b0b-89f9-b50431148bc3",
        "colab": {
          "base_uri": "https://localhost:8080/",
          "height": 36
        }
      },
      "source": [
        "dataset_path"
      ],
      "execution_count": 39,
      "outputs": [
        {
          "output_type": "execute_result",
          "data": {
            "text/plain": [
              "'/root/.keras/datasets/auto-mpg.data'"
            ]
          },
          "metadata": {
            "tags": []
          },
          "execution_count": 39
        }
      ]
    },
    {
      "cell_type": "code",
      "metadata": {
        "id": "EW1YLy6TJIiq",
        "colab_type": "code",
        "colab": {}
      },
      "source": [
        "column_names = ['MPG', 'Cylinders', 'Displacement', 'Horsepower' 'Weight', 'Acceleration', 'Model Year', 'Origin']"
      ],
      "execution_count": 0,
      "outputs": []
    },
    {
      "cell_type": "code",
      "metadata": {
        "id": "dVW8k51YJa1f",
        "colab_type": "code",
        "colab": {}
      },
      "source": [
        "raw_dataset = pd.read_csv(dataset_path, names=column_names, na_values=\"?\", comment='\\t', sep=\" \", skipinitialspace=True)"
      ],
      "execution_count": 0,
      "outputs": []
    },
    {
      "cell_type": "code",
      "metadata": {
        "id": "VwHHt5Q3Jso7",
        "colab_type": "code",
        "colab": {}
      },
      "source": [
        "dataset = raw_dataset.copy()"
      ],
      "execution_count": 0,
      "outputs": []
    },
    {
      "cell_type": "code",
      "metadata": {
        "id": "cVtAdgmFJvrq",
        "colab_type": "code",
        "outputId": "918cc1fe-1648-4253-dd03-4d6cf4531f6c",
        "colab": {
          "base_uri": "https://localhost:8080/",
          "height": 202
        }
      },
      "source": [
        "dataset.tail()"
      ],
      "execution_count": 43,
      "outputs": [
        {
          "output_type": "execute_result",
          "data": {
            "text/html": [
              "<div>\n",
              "<style scoped>\n",
              "    .dataframe tbody tr th:only-of-type {\n",
              "        vertical-align: middle;\n",
              "    }\n",
              "\n",
              "    .dataframe tbody tr th {\n",
              "        vertical-align: top;\n",
              "    }\n",
              "\n",
              "    .dataframe thead th {\n",
              "        text-align: right;\n",
              "    }\n",
              "</style>\n",
              "<table border=\"1\" class=\"dataframe\">\n",
              "  <thead>\n",
              "    <tr style=\"text-align: right;\">\n",
              "      <th></th>\n",
              "      <th>MPG</th>\n",
              "      <th>Cylinders</th>\n",
              "      <th>Displacement</th>\n",
              "      <th>HorsepowerWeight</th>\n",
              "      <th>Acceleration</th>\n",
              "      <th>Model Year</th>\n",
              "      <th>Origin</th>\n",
              "    </tr>\n",
              "  </thead>\n",
              "  <tbody>\n",
              "    <tr>\n",
              "      <th>27.0</th>\n",
              "      <td>4</td>\n",
              "      <td>140.0</td>\n",
              "      <td>86.0</td>\n",
              "      <td>2790.0</td>\n",
              "      <td>15.6</td>\n",
              "      <td>82</td>\n",
              "      <td>1</td>\n",
              "    </tr>\n",
              "    <tr>\n",
              "      <th>44.0</th>\n",
              "      <td>4</td>\n",
              "      <td>97.0</td>\n",
              "      <td>52.0</td>\n",
              "      <td>2130.0</td>\n",
              "      <td>24.6</td>\n",
              "      <td>82</td>\n",
              "      <td>2</td>\n",
              "    </tr>\n",
              "    <tr>\n",
              "      <th>32.0</th>\n",
              "      <td>4</td>\n",
              "      <td>135.0</td>\n",
              "      <td>84.0</td>\n",
              "      <td>2295.0</td>\n",
              "      <td>11.6</td>\n",
              "      <td>82</td>\n",
              "      <td>1</td>\n",
              "    </tr>\n",
              "    <tr>\n",
              "      <th>28.0</th>\n",
              "      <td>4</td>\n",
              "      <td>120.0</td>\n",
              "      <td>79.0</td>\n",
              "      <td>2625.0</td>\n",
              "      <td>18.6</td>\n",
              "      <td>82</td>\n",
              "      <td>1</td>\n",
              "    </tr>\n",
              "    <tr>\n",
              "      <th>31.0</th>\n",
              "      <td>4</td>\n",
              "      <td>119.0</td>\n",
              "      <td>82.0</td>\n",
              "      <td>2720.0</td>\n",
              "      <td>19.4</td>\n",
              "      <td>82</td>\n",
              "      <td>1</td>\n",
              "    </tr>\n",
              "  </tbody>\n",
              "</table>\n",
              "</div>"
            ],
            "text/plain": [
              "      MPG  Cylinders  Displacement  ...  Acceleration  Model Year  Origin\n",
              "27.0    4      140.0          86.0  ...          15.6          82       1\n",
              "44.0    4       97.0          52.0  ...          24.6          82       2\n",
              "32.0    4      135.0          84.0  ...          11.6          82       1\n",
              "28.0    4      120.0          79.0  ...          18.6          82       1\n",
              "31.0    4      119.0          82.0  ...          19.4          82       1\n",
              "\n",
              "[5 rows x 7 columns]"
            ]
          },
          "metadata": {
            "tags": []
          },
          "execution_count": 43
        }
      ]
    },
    {
      "cell_type": "markdown",
      "metadata": {
        "id": "X0RPtoK8J0W1",
        "colab_type": "text"
      },
      "source": [
        "#### 데이터 정제하기"
      ]
    },
    {
      "cell_type": "code",
      "metadata": {
        "id": "ozgSLRiZJw-v",
        "colab_type": "code",
        "outputId": "64fe82f7-17fc-49dd-dc14-0c1a4667e442",
        "colab": {
          "base_uri": "https://localhost:8080/",
          "height": 167
        }
      },
      "source": [
        "dataset.isna().sum()"
      ],
      "execution_count": 44,
      "outputs": [
        {
          "output_type": "execute_result",
          "data": {
            "text/plain": [
              "MPG                 0\n",
              "Cylinders           0\n",
              "Displacement        6\n",
              "HorsepowerWeight    0\n",
              "Acceleration        0\n",
              "Model Year          0\n",
              "Origin              0\n",
              "dtype: int64"
            ]
          },
          "metadata": {
            "tags": []
          },
          "execution_count": 44
        }
      ]
    },
    {
      "cell_type": "code",
      "metadata": {
        "id": "uuEwh-QbJ8MU",
        "colab_type": "code",
        "colab": {}
      },
      "source": [
        "dataset = dataset.dropna()"
      ],
      "execution_count": 0,
      "outputs": []
    },
    {
      "cell_type": "code",
      "metadata": {
        "id": "17CSGRLQ2QXl",
        "colab_type": "code",
        "colab": {}
      },
      "source": [
        "origin = dataset.pop('Origin')"
      ],
      "execution_count": 0,
      "outputs": []
    },
    {
      "cell_type": "code",
      "metadata": {
        "id": "IQEefXKK7R50",
        "colab_type": "code",
        "colab": {}
      },
      "source": [
        "dataset['USA'] = (origin == 1) * 1.0"
      ],
      "execution_count": 0,
      "outputs": []
    },
    {
      "cell_type": "code",
      "metadata": {
        "id": "WY0XiEFi7YhA",
        "colab_type": "code",
        "colab": {}
      },
      "source": [
        "dataset['Europe'] = (origin == 2) * 1.0"
      ],
      "execution_count": 0,
      "outputs": []
    },
    {
      "cell_type": "code",
      "metadata": {
        "id": "qPNonXcX7r3k",
        "colab_type": "code",
        "colab": {}
      },
      "source": [
        "dataset['Japan'] = (origin == 3) * 1.0"
      ],
      "execution_count": 0,
      "outputs": []
    },
    {
      "cell_type": "code",
      "metadata": {
        "id": "ie1zVG4F7ucJ",
        "colab_type": "code",
        "outputId": "7896b741-d516-4767-ca4b-4bec0b4dcccf",
        "colab": {
          "base_uri": "https://localhost:8080/",
          "height": 202
        }
      },
      "source": [
        "dataset.tail()"
      ],
      "execution_count": 50,
      "outputs": [
        {
          "output_type": "execute_result",
          "data": {
            "text/html": [
              "<div>\n",
              "<style scoped>\n",
              "    .dataframe tbody tr th:only-of-type {\n",
              "        vertical-align: middle;\n",
              "    }\n",
              "\n",
              "    .dataframe tbody tr th {\n",
              "        vertical-align: top;\n",
              "    }\n",
              "\n",
              "    .dataframe thead th {\n",
              "        text-align: right;\n",
              "    }\n",
              "</style>\n",
              "<table border=\"1\" class=\"dataframe\">\n",
              "  <thead>\n",
              "    <tr style=\"text-align: right;\">\n",
              "      <th></th>\n",
              "      <th>MPG</th>\n",
              "      <th>Cylinders</th>\n",
              "      <th>Displacement</th>\n",
              "      <th>HorsepowerWeight</th>\n",
              "      <th>Acceleration</th>\n",
              "      <th>Model Year</th>\n",
              "      <th>USA</th>\n",
              "      <th>Europe</th>\n",
              "      <th>Japan</th>\n",
              "    </tr>\n",
              "  </thead>\n",
              "  <tbody>\n",
              "    <tr>\n",
              "      <th>27.0</th>\n",
              "      <td>4</td>\n",
              "      <td>140.0</td>\n",
              "      <td>86.0</td>\n",
              "      <td>2790.0</td>\n",
              "      <td>15.6</td>\n",
              "      <td>82</td>\n",
              "      <td>1.0</td>\n",
              "      <td>0.0</td>\n",
              "      <td>0.0</td>\n",
              "    </tr>\n",
              "    <tr>\n",
              "      <th>44.0</th>\n",
              "      <td>4</td>\n",
              "      <td>97.0</td>\n",
              "      <td>52.0</td>\n",
              "      <td>2130.0</td>\n",
              "      <td>24.6</td>\n",
              "      <td>82</td>\n",
              "      <td>0.0</td>\n",
              "      <td>1.0</td>\n",
              "      <td>0.0</td>\n",
              "    </tr>\n",
              "    <tr>\n",
              "      <th>32.0</th>\n",
              "      <td>4</td>\n",
              "      <td>135.0</td>\n",
              "      <td>84.0</td>\n",
              "      <td>2295.0</td>\n",
              "      <td>11.6</td>\n",
              "      <td>82</td>\n",
              "      <td>1.0</td>\n",
              "      <td>0.0</td>\n",
              "      <td>0.0</td>\n",
              "    </tr>\n",
              "    <tr>\n",
              "      <th>28.0</th>\n",
              "      <td>4</td>\n",
              "      <td>120.0</td>\n",
              "      <td>79.0</td>\n",
              "      <td>2625.0</td>\n",
              "      <td>18.6</td>\n",
              "      <td>82</td>\n",
              "      <td>1.0</td>\n",
              "      <td>0.0</td>\n",
              "      <td>0.0</td>\n",
              "    </tr>\n",
              "    <tr>\n",
              "      <th>31.0</th>\n",
              "      <td>4</td>\n",
              "      <td>119.0</td>\n",
              "      <td>82.0</td>\n",
              "      <td>2720.0</td>\n",
              "      <td>19.4</td>\n",
              "      <td>82</td>\n",
              "      <td>1.0</td>\n",
              "      <td>0.0</td>\n",
              "      <td>0.0</td>\n",
              "    </tr>\n",
              "  </tbody>\n",
              "</table>\n",
              "</div>"
            ],
            "text/plain": [
              "      MPG  Cylinders  Displacement  ...  USA  Europe  Japan\n",
              "27.0    4      140.0          86.0  ...  1.0     0.0    0.0\n",
              "44.0    4       97.0          52.0  ...  0.0     1.0    0.0\n",
              "32.0    4      135.0          84.0  ...  1.0     0.0    0.0\n",
              "28.0    4      120.0          79.0  ...  1.0     0.0    0.0\n",
              "31.0    4      119.0          82.0  ...  1.0     0.0    0.0\n",
              "\n",
              "[5 rows x 9 columns]"
            ]
          },
          "metadata": {
            "tags": []
          },
          "execution_count": 50
        }
      ]
    },
    {
      "cell_type": "markdown",
      "metadata": {
        "id": "2ZLzEk6R8SvN",
        "colab_type": "text"
      },
      "source": [
        "## 데이터셋을 훈련 세트와 테스트 세트로 분할하기"
      ]
    },
    {
      "cell_type": "code",
      "metadata": {
        "id": "edm-0X7N7v5Y",
        "colab_type": "code",
        "colab": {}
      },
      "source": [
        "train_dataset = dataset.sample(frac=0.8, random_state=0)"
      ],
      "execution_count": 0,
      "outputs": []
    },
    {
      "cell_type": "code",
      "metadata": {
        "id": "f0Omffx3PS0F",
        "colab_type": "code",
        "colab": {
          "base_uri": "https://localhost:8080/",
          "height": 92
        },
        "outputId": "c6827f36-d7fa-4809-ea43-8a0ed53d3eb5"
      },
      "source": [
        "train_dataset.index"
      ],
      "execution_count": 52,
      "outputs": [
        {
          "output_type": "execute_result",
          "data": {
            "text/plain": [
              "Float64Index([28.0, 22.3, 12.0, 38.0, 33.8, 19.4, 38.1, 30.0, 20.0, 20.0,\n",
              "              ...\n",
              "              24.0, 13.0, 26.8, 23.0, 19.0, 19.8, 16.0, 26.0, 32.0, 28.0],\n",
              "             dtype='float64', length=314)"
            ]
          },
          "metadata": {
            "tags": []
          },
          "execution_count": 52
        }
      ]
    },
    {
      "cell_type": "code",
      "metadata": {
        "id": "rGOnk8Cp8gKT",
        "colab_type": "code",
        "colab": {}
      },
      "source": [
        "test_dataset = dataset.drop(train_dataset.index)"
      ],
      "execution_count": 0,
      "outputs": []
    },
    {
      "cell_type": "code",
      "metadata": {
        "id": "TBRa0S348sen",
        "colab_type": "code",
        "outputId": "29dd8518-76d5-4f7e-d7d0-d58bffcd14c5",
        "colab": {
          "base_uri": "https://localhost:8080/",
          "height": 415
        }
      },
      "source": [
        "train_dataset"
      ],
      "execution_count": 54,
      "outputs": [
        {
          "output_type": "execute_result",
          "data": {
            "text/html": [
              "<div>\n",
              "<style scoped>\n",
              "    .dataframe tbody tr th:only-of-type {\n",
              "        vertical-align: middle;\n",
              "    }\n",
              "\n",
              "    .dataframe tbody tr th {\n",
              "        vertical-align: top;\n",
              "    }\n",
              "\n",
              "    .dataframe thead th {\n",
              "        text-align: right;\n",
              "    }\n",
              "</style>\n",
              "<table border=\"1\" class=\"dataframe\">\n",
              "  <thead>\n",
              "    <tr style=\"text-align: right;\">\n",
              "      <th></th>\n",
              "      <th>MPG</th>\n",
              "      <th>Cylinders</th>\n",
              "      <th>Displacement</th>\n",
              "      <th>HorsepowerWeight</th>\n",
              "      <th>Acceleration</th>\n",
              "      <th>Model Year</th>\n",
              "      <th>USA</th>\n",
              "      <th>Europe</th>\n",
              "      <th>Japan</th>\n",
              "    </tr>\n",
              "  </thead>\n",
              "  <tbody>\n",
              "    <tr>\n",
              "      <th>28.0</th>\n",
              "      <td>4</td>\n",
              "      <td>90.0</td>\n",
              "      <td>75.0</td>\n",
              "      <td>2125.0</td>\n",
              "      <td>14.5</td>\n",
              "      <td>74</td>\n",
              "      <td>1.0</td>\n",
              "      <td>0.0</td>\n",
              "      <td>0.0</td>\n",
              "    </tr>\n",
              "    <tr>\n",
              "      <th>22.3</th>\n",
              "      <td>4</td>\n",
              "      <td>140.0</td>\n",
              "      <td>88.0</td>\n",
              "      <td>2890.0</td>\n",
              "      <td>17.3</td>\n",
              "      <td>79</td>\n",
              "      <td>1.0</td>\n",
              "      <td>0.0</td>\n",
              "      <td>0.0</td>\n",
              "    </tr>\n",
              "    <tr>\n",
              "      <th>12.0</th>\n",
              "      <td>8</td>\n",
              "      <td>350.0</td>\n",
              "      <td>160.0</td>\n",
              "      <td>4456.0</td>\n",
              "      <td>13.5</td>\n",
              "      <td>72</td>\n",
              "      <td>1.0</td>\n",
              "      <td>0.0</td>\n",
              "      <td>0.0</td>\n",
              "    </tr>\n",
              "    <tr>\n",
              "      <th>38.0</th>\n",
              "      <td>4</td>\n",
              "      <td>105.0</td>\n",
              "      <td>63.0</td>\n",
              "      <td>2125.0</td>\n",
              "      <td>14.7</td>\n",
              "      <td>82</td>\n",
              "      <td>1.0</td>\n",
              "      <td>0.0</td>\n",
              "      <td>0.0</td>\n",
              "    </tr>\n",
              "    <tr>\n",
              "      <th>33.8</th>\n",
              "      <td>4</td>\n",
              "      <td>97.0</td>\n",
              "      <td>67.0</td>\n",
              "      <td>2145.0</td>\n",
              "      <td>18.0</td>\n",
              "      <td>80</td>\n",
              "      <td>0.0</td>\n",
              "      <td>0.0</td>\n",
              "      <td>1.0</td>\n",
              "    </tr>\n",
              "    <tr>\n",
              "      <th>...</th>\n",
              "      <td>...</td>\n",
              "      <td>...</td>\n",
              "      <td>...</td>\n",
              "      <td>...</td>\n",
              "      <td>...</td>\n",
              "      <td>...</td>\n",
              "      <td>...</td>\n",
              "      <td>...</td>\n",
              "      <td>...</td>\n",
              "    </tr>\n",
              "    <tr>\n",
              "      <th>19.8</th>\n",
              "      <td>6</td>\n",
              "      <td>200.0</td>\n",
              "      <td>85.0</td>\n",
              "      <td>2990.0</td>\n",
              "      <td>18.2</td>\n",
              "      <td>79</td>\n",
              "      <td>1.0</td>\n",
              "      <td>0.0</td>\n",
              "      <td>0.0</td>\n",
              "    </tr>\n",
              "    <tr>\n",
              "      <th>16.0</th>\n",
              "      <td>8</td>\n",
              "      <td>400.0</td>\n",
              "      <td>180.0</td>\n",
              "      <td>4220.0</td>\n",
              "      <td>11.1</td>\n",
              "      <td>77</td>\n",
              "      <td>1.0</td>\n",
              "      <td>0.0</td>\n",
              "      <td>0.0</td>\n",
              "    </tr>\n",
              "    <tr>\n",
              "      <th>26.0</th>\n",
              "      <td>4</td>\n",
              "      <td>108.0</td>\n",
              "      <td>93.0</td>\n",
              "      <td>2391.0</td>\n",
              "      <td>15.5</td>\n",
              "      <td>74</td>\n",
              "      <td>0.0</td>\n",
              "      <td>0.0</td>\n",
              "      <td>1.0</td>\n",
              "    </tr>\n",
              "    <tr>\n",
              "      <th>32.0</th>\n",
              "      <td>4</td>\n",
              "      <td>83.0</td>\n",
              "      <td>61.0</td>\n",
              "      <td>2003.0</td>\n",
              "      <td>19.0</td>\n",
              "      <td>74</td>\n",
              "      <td>0.0</td>\n",
              "      <td>0.0</td>\n",
              "      <td>1.0</td>\n",
              "    </tr>\n",
              "    <tr>\n",
              "      <th>28.0</th>\n",
              "      <td>4</td>\n",
              "      <td>107.0</td>\n",
              "      <td>86.0</td>\n",
              "      <td>2464.0</td>\n",
              "      <td>15.5</td>\n",
              "      <td>76</td>\n",
              "      <td>0.0</td>\n",
              "      <td>1.0</td>\n",
              "      <td>0.0</td>\n",
              "    </tr>\n",
              "  </tbody>\n",
              "</table>\n",
              "<p>314 rows × 9 columns</p>\n",
              "</div>"
            ],
            "text/plain": [
              "      MPG  Cylinders  Displacement  ...  USA  Europe  Japan\n",
              "28.0    4       90.0          75.0  ...  1.0     0.0    0.0\n",
              "22.3    4      140.0          88.0  ...  1.0     0.0    0.0\n",
              "12.0    8      350.0         160.0  ...  1.0     0.0    0.0\n",
              "38.0    4      105.0          63.0  ...  1.0     0.0    0.0\n",
              "33.8    4       97.0          67.0  ...  0.0     0.0    1.0\n",
              "...   ...        ...           ...  ...  ...     ...    ...\n",
              "19.8    6      200.0          85.0  ...  1.0     0.0    0.0\n",
              "16.0    8      400.0         180.0  ...  1.0     0.0    0.0\n",
              "26.0    4      108.0          93.0  ...  0.0     0.0    1.0\n",
              "32.0    4       83.0          61.0  ...  0.0     0.0    1.0\n",
              "28.0    4      107.0          86.0  ...  0.0     1.0    0.0\n",
              "\n",
              "[314 rows x 9 columns]"
            ]
          },
          "metadata": {
            "tags": []
          },
          "execution_count": 54
        }
      ]
    },
    {
      "cell_type": "code",
      "metadata": {
        "id": "iCaZonum8t3C",
        "colab_type": "code",
        "outputId": "beaf0b6f-709e-4b3b-95c9-12304d2e03b9",
        "colab": {
          "base_uri": "https://localhost:8080/",
          "height": 723
        }
      },
      "source": [
        "test_dataset"
      ],
      "execution_count": 55,
      "outputs": [
        {
          "output_type": "execute_result",
          "data": {
            "text/html": [
              "<div>\n",
              "<style scoped>\n",
              "    .dataframe tbody tr th:only-of-type {\n",
              "        vertical-align: middle;\n",
              "    }\n",
              "\n",
              "    .dataframe tbody tr th {\n",
              "        vertical-align: top;\n",
              "    }\n",
              "\n",
              "    .dataframe thead th {\n",
              "        text-align: right;\n",
              "    }\n",
              "</style>\n",
              "<table border=\"1\" class=\"dataframe\">\n",
              "  <thead>\n",
              "    <tr style=\"text-align: right;\">\n",
              "      <th></th>\n",
              "      <th>MPG</th>\n",
              "      <th>Cylinders</th>\n",
              "      <th>Displacement</th>\n",
              "      <th>HorsepowerWeight</th>\n",
              "      <th>Acceleration</th>\n",
              "      <th>Model Year</th>\n",
              "      <th>USA</th>\n",
              "      <th>Europe</th>\n",
              "      <th>Japan</th>\n",
              "    </tr>\n",
              "  </thead>\n",
              "  <tbody>\n",
              "    <tr>\n",
              "      <th>9.0</th>\n",
              "      <td>8</td>\n",
              "      <td>304.0</td>\n",
              "      <td>193.0</td>\n",
              "      <td>4732.0</td>\n",
              "      <td>18.5</td>\n",
              "      <td>70</td>\n",
              "      <td>1.0</td>\n",
              "      <td>0.0</td>\n",
              "      <td>0.0</td>\n",
              "    </tr>\n",
              "    <tr>\n",
              "      <th>22.5</th>\n",
              "      <td>6</td>\n",
              "      <td>232.0</td>\n",
              "      <td>90.0</td>\n",
              "      <td>3085.0</td>\n",
              "      <td>17.6</td>\n",
              "      <td>76</td>\n",
              "      <td>1.0</td>\n",
              "      <td>0.0</td>\n",
              "      <td>0.0</td>\n",
              "    </tr>\n",
              "    <tr>\n",
              "      <th>43.1</th>\n",
              "      <td>4</td>\n",
              "      <td>90.0</td>\n",
              "      <td>48.0</td>\n",
              "      <td>1985.0</td>\n",
              "      <td>21.5</td>\n",
              "      <td>78</td>\n",
              "      <td>0.0</td>\n",
              "      <td>1.0</td>\n",
              "      <td>0.0</td>\n",
              "    </tr>\n",
              "    <tr>\n",
              "      <th>32.8</th>\n",
              "      <td>4</td>\n",
              "      <td>78.0</td>\n",
              "      <td>52.0</td>\n",
              "      <td>1985.0</td>\n",
              "      <td>19.4</td>\n",
              "      <td>78</td>\n",
              "      <td>0.0</td>\n",
              "      <td>0.0</td>\n",
              "      <td>1.0</td>\n",
              "    </tr>\n",
              "    <tr>\n",
              "      <th>20.8</th>\n",
              "      <td>6</td>\n",
              "      <td>200.0</td>\n",
              "      <td>85.0</td>\n",
              "      <td>3070.0</td>\n",
              "      <td>16.7</td>\n",
              "      <td>78</td>\n",
              "      <td>1.0</td>\n",
              "      <td>0.0</td>\n",
              "      <td>0.0</td>\n",
              "    </tr>\n",
              "    <tr>\n",
              "      <th>27.5</th>\n",
              "      <td>4</td>\n",
              "      <td>134.0</td>\n",
              "      <td>95.0</td>\n",
              "      <td>2560.0</td>\n",
              "      <td>14.2</td>\n",
              "      <td>78</td>\n",
              "      <td>0.0</td>\n",
              "      <td>0.0</td>\n",
              "      <td>1.0</td>\n",
              "    </tr>\n",
              "    <tr>\n",
              "      <th>30.9</th>\n",
              "      <td>4</td>\n",
              "      <td>105.0</td>\n",
              "      <td>75.0</td>\n",
              "      <td>2230.0</td>\n",
              "      <td>14.5</td>\n",
              "      <td>78</td>\n",
              "      <td>1.0</td>\n",
              "      <td>0.0</td>\n",
              "      <td>0.0</td>\n",
              "    </tr>\n",
              "    <tr>\n",
              "      <th>31.9</th>\n",
              "      <td>4</td>\n",
              "      <td>89.0</td>\n",
              "      <td>71.0</td>\n",
              "      <td>1925.0</td>\n",
              "      <td>14.0</td>\n",
              "      <td>79</td>\n",
              "      <td>0.0</td>\n",
              "      <td>1.0</td>\n",
              "      <td>0.0</td>\n",
              "    </tr>\n",
              "    <tr>\n",
              "      <th>34.1</th>\n",
              "      <td>4</td>\n",
              "      <td>86.0</td>\n",
              "      <td>65.0</td>\n",
              "      <td>1975.0</td>\n",
              "      <td>15.2</td>\n",
              "      <td>79</td>\n",
              "      <td>0.0</td>\n",
              "      <td>0.0</td>\n",
              "      <td>1.0</td>\n",
              "    </tr>\n",
              "    <tr>\n",
              "      <th>19.1</th>\n",
              "      <td>6</td>\n",
              "      <td>225.0</td>\n",
              "      <td>90.0</td>\n",
              "      <td>3381.0</td>\n",
              "      <td>18.7</td>\n",
              "      <td>80</td>\n",
              "      <td>1.0</td>\n",
              "      <td>0.0</td>\n",
              "      <td>0.0</td>\n",
              "    </tr>\n",
              "    <tr>\n",
              "      <th>27.9</th>\n",
              "      <td>4</td>\n",
              "      <td>156.0</td>\n",
              "      <td>105.0</td>\n",
              "      <td>2800.0</td>\n",
              "      <td>14.4</td>\n",
              "      <td>80</td>\n",
              "      <td>1.0</td>\n",
              "      <td>0.0</td>\n",
              "      <td>0.0</td>\n",
              "    </tr>\n",
              "    <tr>\n",
              "      <th>44.3</th>\n",
              "      <td>4</td>\n",
              "      <td>90.0</td>\n",
              "      <td>48.0</td>\n",
              "      <td>2085.0</td>\n",
              "      <td>21.7</td>\n",
              "      <td>80</td>\n",
              "      <td>0.0</td>\n",
              "      <td>1.0</td>\n",
              "      <td>0.0</td>\n",
              "    </tr>\n",
              "    <tr>\n",
              "      <th>26.6</th>\n",
              "      <td>4</td>\n",
              "      <td>151.0</td>\n",
              "      <td>84.0</td>\n",
              "      <td>2635.0</td>\n",
              "      <td>16.4</td>\n",
              "      <td>81</td>\n",
              "      <td>1.0</td>\n",
              "      <td>0.0</td>\n",
              "      <td>0.0</td>\n",
              "    </tr>\n",
              "    <tr>\n",
              "      <th>23.5</th>\n",
              "      <td>6</td>\n",
              "      <td>173.0</td>\n",
              "      <td>110.0</td>\n",
              "      <td>2725.0</td>\n",
              "      <td>12.6</td>\n",
              "      <td>81</td>\n",
              "      <td>1.0</td>\n",
              "      <td>0.0</td>\n",
              "      <td>0.0</td>\n",
              "    </tr>\n",
              "    <tr>\n",
              "      <th>39.1</th>\n",
              "      <td>4</td>\n",
              "      <td>79.0</td>\n",
              "      <td>58.0</td>\n",
              "      <td>1755.0</td>\n",
              "      <td>16.9</td>\n",
              "      <td>81</td>\n",
              "      <td>0.0</td>\n",
              "      <td>0.0</td>\n",
              "      <td>1.0</td>\n",
              "    </tr>\n",
              "    <tr>\n",
              "      <th>34.1</th>\n",
              "      <td>4</td>\n",
              "      <td>91.0</td>\n",
              "      <td>68.0</td>\n",
              "      <td>1985.0</td>\n",
              "      <td>16.0</td>\n",
              "      <td>81</td>\n",
              "      <td>0.0</td>\n",
              "      <td>0.0</td>\n",
              "      <td>1.0</td>\n",
              "    </tr>\n",
              "    <tr>\n",
              "      <th>34.4</th>\n",
              "      <td>4</td>\n",
              "      <td>98.0</td>\n",
              "      <td>65.0</td>\n",
              "      <td>2045.0</td>\n",
              "      <td>16.2</td>\n",
              "      <td>81</td>\n",
              "      <td>1.0</td>\n",
              "      <td>0.0</td>\n",
              "      <td>0.0</td>\n",
              "    </tr>\n",
              "    <tr>\n",
              "      <th>28.1</th>\n",
              "      <td>4</td>\n",
              "      <td>141.0</td>\n",
              "      <td>80.0</td>\n",
              "      <td>3230.0</td>\n",
              "      <td>20.4</td>\n",
              "      <td>81</td>\n",
              "      <td>0.0</td>\n",
              "      <td>1.0</td>\n",
              "      <td>0.0</td>\n",
              "    </tr>\n",
              "    <tr>\n",
              "      <th>22.4</th>\n",
              "      <td>6</td>\n",
              "      <td>231.0</td>\n",
              "      <td>110.0</td>\n",
              "      <td>3415.0</td>\n",
              "      <td>15.8</td>\n",
              "      <td>81</td>\n",
              "      <td>1.0</td>\n",
              "      <td>0.0</td>\n",
              "      <td>0.0</td>\n",
              "    </tr>\n",
              "    <tr>\n",
              "      <th>26.6</th>\n",
              "      <td>8</td>\n",
              "      <td>350.0</td>\n",
              "      <td>105.0</td>\n",
              "      <td>3725.0</td>\n",
              "      <td>19.0</td>\n",
              "      <td>81</td>\n",
              "      <td>1.0</td>\n",
              "      <td>0.0</td>\n",
              "      <td>0.0</td>\n",
              "    </tr>\n",
              "    <tr>\n",
              "      <th>34.0</th>\n",
              "      <td>4</td>\n",
              "      <td>112.0</td>\n",
              "      <td>88.0</td>\n",
              "      <td>2395.0</td>\n",
              "      <td>18.0</td>\n",
              "      <td>82</td>\n",
              "      <td>1.0</td>\n",
              "      <td>0.0</td>\n",
              "      <td>0.0</td>\n",
              "    </tr>\n",
              "    <tr>\n",
              "      <th>34.0</th>\n",
              "      <td>4</td>\n",
              "      <td>108.0</td>\n",
              "      <td>70.0</td>\n",
              "      <td>2245.0</td>\n",
              "      <td>16.9</td>\n",
              "      <td>82</td>\n",
              "      <td>0.0</td>\n",
              "      <td>0.0</td>\n",
              "      <td>1.0</td>\n",
              "    </tr>\n",
              "  </tbody>\n",
              "</table>\n",
              "</div>"
            ],
            "text/plain": [
              "      MPG  Cylinders  Displacement  ...  USA  Europe  Japan\n",
              "9.0     8      304.0         193.0  ...  1.0     0.0    0.0\n",
              "22.5    6      232.0          90.0  ...  1.0     0.0    0.0\n",
              "43.1    4       90.0          48.0  ...  0.0     1.0    0.0\n",
              "32.8    4       78.0          52.0  ...  0.0     0.0    1.0\n",
              "20.8    6      200.0          85.0  ...  1.0     0.0    0.0\n",
              "27.5    4      134.0          95.0  ...  0.0     0.0    1.0\n",
              "30.9    4      105.0          75.0  ...  1.0     0.0    0.0\n",
              "31.9    4       89.0          71.0  ...  0.0     1.0    0.0\n",
              "34.1    4       86.0          65.0  ...  0.0     0.0    1.0\n",
              "19.1    6      225.0          90.0  ...  1.0     0.0    0.0\n",
              "27.9    4      156.0         105.0  ...  1.0     0.0    0.0\n",
              "44.3    4       90.0          48.0  ...  0.0     1.0    0.0\n",
              "26.6    4      151.0          84.0  ...  1.0     0.0    0.0\n",
              "23.5    6      173.0         110.0  ...  1.0     0.0    0.0\n",
              "39.1    4       79.0          58.0  ...  0.0     0.0    1.0\n",
              "34.1    4       91.0          68.0  ...  0.0     0.0    1.0\n",
              "34.4    4       98.0          65.0  ...  1.0     0.0    0.0\n",
              "28.1    4      141.0          80.0  ...  0.0     1.0    0.0\n",
              "22.4    6      231.0         110.0  ...  1.0     0.0    0.0\n",
              "26.6    8      350.0         105.0  ...  1.0     0.0    0.0\n",
              "34.0    4      112.0          88.0  ...  1.0     0.0    0.0\n",
              "34.0    4      108.0          70.0  ...  0.0     0.0    1.0\n",
              "\n",
              "[22 rows x 9 columns]"
            ]
          },
          "metadata": {
            "tags": []
          },
          "execution_count": 55
        }
      ]
    },
    {
      "cell_type": "markdown",
      "metadata": {
        "id": "1WnaxdA4P94G",
        "colab_type": "text"
      },
      "source": [
        "## 데이터 조사하기"
      ]
    },
    {
      "cell_type": "code",
      "metadata": {
        "id": "N8-cnR8X8vLM",
        "colab_type": "code",
        "colab": {
          "base_uri": "https://localhost:8080/",
          "height": 766
        },
        "outputId": "7d08342a-39a8-4f53-a02f-e2282becaf18"
      },
      "source": [
        "sns.pairplot(train_dataset[[\"MPG\", \"Cylinders\", \"Displacement\", \"HorsepowerWeight\"]], diag_kind=\"kde\")"
      ],
      "execution_count": 58,
      "outputs": [
        {
          "output_type": "execute_result",
          "data": {
            "text/plain": [
              "<seaborn.axisgrid.PairGrid at 0x7fca79162860>"
            ]
          },
          "metadata": {
            "tags": []
          },
          "execution_count": 58
        },
        {
          "output_type": "display_data",
          "data": {
            "image/png": "[encoded data removed]",
            "text/plain": [
              "<Figure size 720x720 with 20 Axes>"
            ]
          },
          "metadata": {
            "tags": []
          }
        }
      ]
    },
    {
      "cell_type": "code",
      "metadata": {
        "id": "8jG_fR34QiIW",
        "colab_type": "code",
        "colab": {
          "base_uri": "https://localhost:8080/",
          "height": 294
        },
        "outputId": "465525ad-e383-408e-f942-a93dd4b9cf59"
      },
      "source": [
        "train_stats = train_dataset.describe()\n",
        "train_stats.pop(\"MPG\")\n",
        "train_stats = train_stats.transpose()\n",
        "train_stats"
      ],
      "execution_count": 59,
      "outputs": [
        {
          "output_type": "execute_result",
          "data": {
            "text/html": [
              "<div>\n",
              "<style scoped>\n",
              "    .dataframe tbody tr th:only-of-type {\n",
              "        vertical-align: middle;\n",
              "    }\n",
              "\n",
              "    .dataframe tbody tr th {\n",
              "        vertical-align: top;\n",
              "    }\n",
              "\n",
              "    .dataframe thead th {\n",
              "        text-align: right;\n",
              "    }\n",
              "</style>\n",
              "<table border=\"1\" class=\"dataframe\">\n",
              "  <thead>\n",
              "    <tr style=\"text-align: right;\">\n",
              "      <th></th>\n",
              "      <th>count</th>\n",
              "      <th>mean</th>\n",
              "      <th>std</th>\n",
              "      <th>min</th>\n",
              "      <th>25%</th>\n",
              "      <th>50%</th>\n",
              "      <th>75%</th>\n",
              "      <th>max</th>\n",
              "    </tr>\n",
              "  </thead>\n",
              "  <tbody>\n",
              "    <tr>\n",
              "      <th>Cylinders</th>\n",
              "      <td>314.0</td>\n",
              "      <td>195.318471</td>\n",
              "      <td>104.331589</td>\n",
              "      <td>68.0</td>\n",
              "      <td>105.50</td>\n",
              "      <td>151.0</td>\n",
              "      <td>265.75</td>\n",
              "      <td>455.0</td>\n",
              "    </tr>\n",
              "    <tr>\n",
              "      <th>Displacement</th>\n",
              "      <td>314.0</td>\n",
              "      <td>104.869427</td>\n",
              "      <td>38.096214</td>\n",
              "      <td>46.0</td>\n",
              "      <td>76.25</td>\n",
              "      <td>94.5</td>\n",
              "      <td>128.00</td>\n",
              "      <td>225.0</td>\n",
              "    </tr>\n",
              "    <tr>\n",
              "      <th>HorsepowerWeight</th>\n",
              "      <td>314.0</td>\n",
              "      <td>2990.251592</td>\n",
              "      <td>843.898596</td>\n",
              "      <td>1649.0</td>\n",
              "      <td>2256.50</td>\n",
              "      <td>2822.5</td>\n",
              "      <td>3608.00</td>\n",
              "      <td>5140.0</td>\n",
              "    </tr>\n",
              "    <tr>\n",
              "      <th>Acceleration</th>\n",
              "      <td>314.0</td>\n",
              "      <td>15.559236</td>\n",
              "      <td>2.789230</td>\n",
              "      <td>8.0</td>\n",
              "      <td>13.80</td>\n",
              "      <td>15.5</td>\n",
              "      <td>17.20</td>\n",
              "      <td>24.8</td>\n",
              "    </tr>\n",
              "    <tr>\n",
              "      <th>Model Year</th>\n",
              "      <td>314.0</td>\n",
              "      <td>75.898089</td>\n",
              "      <td>3.675642</td>\n",
              "      <td>70.0</td>\n",
              "      <td>73.00</td>\n",
              "      <td>76.0</td>\n",
              "      <td>79.00</td>\n",
              "      <td>82.0</td>\n",
              "    </tr>\n",
              "    <tr>\n",
              "      <th>USA</th>\n",
              "      <td>314.0</td>\n",
              "      <td>0.624204</td>\n",
              "      <td>0.485101</td>\n",
              "      <td>0.0</td>\n",
              "      <td>0.00</td>\n",
              "      <td>1.0</td>\n",
              "      <td>1.00</td>\n",
              "      <td>1.0</td>\n",
              "    </tr>\n",
              "    <tr>\n",
              "      <th>Europe</th>\n",
              "      <td>314.0</td>\n",
              "      <td>0.178344</td>\n",
              "      <td>0.383413</td>\n",
              "      <td>0.0</td>\n",
              "      <td>0.00</td>\n",
              "      <td>0.0</td>\n",
              "      <td>0.00</td>\n",
              "      <td>1.0</td>\n",
              "    </tr>\n",
              "    <tr>\n",
              "      <th>Japan</th>\n",
              "      <td>314.0</td>\n",
              "      <td>0.197452</td>\n",
              "      <td>0.398712</td>\n",
              "      <td>0.0</td>\n",
              "      <td>0.00</td>\n",
              "      <td>0.0</td>\n",
              "      <td>0.00</td>\n",
              "      <td>1.0</td>\n",
              "    </tr>\n",
              "  </tbody>\n",
              "</table>\n",
              "</div>"
            ],
            "text/plain": [
              "                  count         mean         std  ...     50%      75%     max\n",
              "Cylinders         314.0   195.318471  104.331589  ...   151.0   265.75   455.0\n",
              "Displacement      314.0   104.869427   38.096214  ...    94.5   128.00   225.0\n",
              "HorsepowerWeight  314.0  2990.251592  843.898596  ...  2822.5  3608.00  5140.0\n",
              "Acceleration      314.0    15.559236    2.789230  ...    15.5    17.20    24.8\n",
              "Model Year        314.0    75.898089    3.675642  ...    76.0    79.00    82.0\n",
              "USA               314.0     0.624204    0.485101  ...     1.0     1.00     1.0\n",
              "Europe            314.0     0.178344    0.383413  ...     0.0     0.00     1.0\n",
              "Japan             314.0     0.197452    0.398712  ...     0.0     0.00     1.0\n",
              "\n",
              "[8 rows x 8 columns]"
            ]
          },
          "metadata": {
            "tags": []
          },
          "execution_count": 59
        }
      ]
    },
    {
      "cell_type": "markdown",
      "metadata": {
        "id": "sAvLr00qRc_6",
        "colab_type": "text"
      },
      "source": [
        "## 특성과 레이블 분리하기"
      ]
    },
    {
      "cell_type": "code",
      "metadata": {
        "id": "Wbytn2rARLWt",
        "colab_type": "code",
        "colab": {}
      },
      "source": [
        "train_labels = train_dataset.pop(\"MPG\")\n",
        "test_labels = test_dataset.pop(\"MPG\")"
      ],
      "execution_count": 0,
      "outputs": []
    },
    {
      "cell_type": "code",
      "metadata": {
        "id": "-bvetwTyRvpJ",
        "colab_type": "code",
        "colab": {
          "base_uri": "https://localhost:8080/",
          "height": 241
        },
        "outputId": "86efbd5f-0ac2-4691-ac41-a106c786901a"
      },
      "source": [
        "train_labels"
      ],
      "execution_count": 61,
      "outputs": [
        {
          "output_type": "execute_result",
          "data": {
            "text/plain": [
              "28.0    4\n",
              "22.3    4\n",
              "12.0    8\n",
              "38.0    4\n",
              "33.8    4\n",
              "       ..\n",
              "19.8    6\n",
              "16.0    8\n",
              "26.0    4\n",
              "32.0    4\n",
              "28.0    4\n",
              "Name: MPG, Length: 314, dtype: int64"
            ]
          },
          "metadata": {
            "tags": []
          },
          "execution_count": 61
        }
      ]
    },
    {
      "cell_type": "code",
      "metadata": {
        "id": "L9FQ0TsmSCRm",
        "colab_type": "code",
        "colab": {
          "base_uri": "https://localhost:8080/",
          "height": 447
        },
        "outputId": "c71ec272-d087-44cc-b856-797b42cba478"
      },
      "source": [
        "test_labels"
      ],
      "execution_count": 62,
      "outputs": [
        {
          "output_type": "execute_result",
          "data": {
            "text/plain": [
              "9.0     8\n",
              "22.5    6\n",
              "43.1    4\n",
              "32.8    4\n",
              "20.8    6\n",
              "27.5    4\n",
              "30.9    4\n",
              "31.9    4\n",
              "34.1    4\n",
              "19.1    6\n",
              "27.9    4\n",
              "44.3    4\n",
              "26.6    4\n",
              "23.5    6\n",
              "39.1    4\n",
              "34.1    4\n",
              "34.4    4\n",
              "28.1    4\n",
              "22.4    6\n",
              "26.6    8\n",
              "34.0    4\n",
              "34.0    4\n",
              "Name: MPG, dtype: int64"
            ]
          },
          "metadata": {
            "tags": []
          },
          "execution_count": 62
        }
      ]
    },
    {
      "cell_type": "markdown",
      "metadata": {
        "id": "42LWB0pAYbwT",
        "colab_type": "text"
      },
      "source": [
        "## 데이터 정규화"
      ]
    },
    {
      "cell_type": "code",
      "metadata": {
        "id": "hQ3UmaIZYdib",
        "colab_type": "code",
        "colab": {}
      },
      "source": [
        "def norm(x):\n",
        "  return (x - train_stats['mean']) / train_stats['std']"
      ],
      "execution_count": 0,
      "outputs": []
    },
    {
      "cell_type": "code",
      "metadata": {
        "id": "BPZ6BIlSSDoR",
        "colab_type": "code",
        "colab": {}
      },
      "source": [
        "normed_train_data = norm(train_dataset)"
      ],
      "execution_count": 0,
      "outputs": []
    },
    {
      "cell_type": "code",
      "metadata": {
        "id": "M-j9TiinYvcJ",
        "colab_type": "code",
        "colab": {
          "base_uri": "https://localhost:8080/",
          "height": 415
        },
        "outputId": "eb693b0b-94cc-45f8-f885-fbd550eced38"
      },
      "source": [
        "normed_train_data"
      ],
      "execution_count": 65,
      "outputs": [
        {
          "output_type": "execute_result",
          "data": {
            "text/html": [
              "<div>\n",
              "<style scoped>\n",
              "    .dataframe tbody tr th:only-of-type {\n",
              "        vertical-align: middle;\n",
              "    }\n",
              "\n",
              "    .dataframe tbody tr th {\n",
              "        vertical-align: top;\n",
              "    }\n",
              "\n",
              "    .dataframe thead th {\n",
              "        text-align: right;\n",
              "    }\n",
              "</style>\n",
              "<table border=\"1\" class=\"dataframe\">\n",
              "  <thead>\n",
              "    <tr style=\"text-align: right;\">\n",
              "      <th></th>\n",
              "      <th>Cylinders</th>\n",
              "      <th>Displacement</th>\n",
              "      <th>HorsepowerWeight</th>\n",
              "      <th>Acceleration</th>\n",
              "      <th>Model Year</th>\n",
              "      <th>USA</th>\n",
              "      <th>Europe</th>\n",
              "      <th>Japan</th>\n",
              "    </tr>\n",
              "  </thead>\n",
              "  <tbody>\n",
              "    <tr>\n",
              "      <th>28.0</th>\n",
              "      <td>-1.009459</td>\n",
              "      <td>-0.784052</td>\n",
              "      <td>-1.025303</td>\n",
              "      <td>-0.379759</td>\n",
              "      <td>-0.516397</td>\n",
              "      <td>0.774676</td>\n",
              "      <td>-0.465148</td>\n",
              "      <td>-0.495225</td>\n",
              "    </tr>\n",
              "    <tr>\n",
              "      <th>22.3</th>\n",
              "      <td>-0.530218</td>\n",
              "      <td>-0.442811</td>\n",
              "      <td>-0.118796</td>\n",
              "      <td>0.624102</td>\n",
              "      <td>0.843910</td>\n",
              "      <td>0.774676</td>\n",
              "      <td>-0.465148</td>\n",
              "      <td>-0.495225</td>\n",
              "    </tr>\n",
              "    <tr>\n",
              "      <th>12.0</th>\n",
              "      <td>1.482595</td>\n",
              "      <td>1.447140</td>\n",
              "      <td>1.736877</td>\n",
              "      <td>-0.738281</td>\n",
              "      <td>-1.060519</td>\n",
              "      <td>0.774676</td>\n",
              "      <td>-0.465148</td>\n",
              "      <td>-0.495225</td>\n",
              "    </tr>\n",
              "    <tr>\n",
              "      <th>38.0</th>\n",
              "      <td>-0.865687</td>\n",
              "      <td>-1.099044</td>\n",
              "      <td>-1.025303</td>\n",
              "      <td>-0.308055</td>\n",
              "      <td>1.660094</td>\n",
              "      <td>0.774676</td>\n",
              "      <td>-0.465148</td>\n",
              "      <td>-0.495225</td>\n",
              "    </tr>\n",
              "    <tr>\n",
              "      <th>33.8</th>\n",
              "      <td>-0.942365</td>\n",
              "      <td>-0.994047</td>\n",
              "      <td>-1.001603</td>\n",
              "      <td>0.875068</td>\n",
              "      <td>1.115971</td>\n",
              "      <td>-1.286751</td>\n",
              "      <td>-0.465148</td>\n",
              "      <td>2.012852</td>\n",
              "    </tr>\n",
              "    <tr>\n",
              "      <th>...</th>\n",
              "      <td>...</td>\n",
              "      <td>...</td>\n",
              "      <td>...</td>\n",
              "      <td>...</td>\n",
              "      <td>...</td>\n",
              "      <td>...</td>\n",
              "      <td>...</td>\n",
              "      <td>...</td>\n",
              "    </tr>\n",
              "    <tr>\n",
              "      <th>19.8</th>\n",
              "      <td>0.044872</td>\n",
              "      <td>-0.521559</td>\n",
              "      <td>-0.000298</td>\n",
              "      <td>0.946772</td>\n",
              "      <td>0.843910</td>\n",
              "      <td>0.774676</td>\n",
              "      <td>-0.465148</td>\n",
              "      <td>-0.495225</td>\n",
              "    </tr>\n",
              "    <tr>\n",
              "      <th>16.0</th>\n",
              "      <td>1.961837</td>\n",
              "      <td>1.972127</td>\n",
              "      <td>1.457223</td>\n",
              "      <td>-1.598734</td>\n",
              "      <td>0.299787</td>\n",
              "      <td>0.774676</td>\n",
              "      <td>-0.465148</td>\n",
              "      <td>-0.495225</td>\n",
              "    </tr>\n",
              "    <tr>\n",
              "      <th>26.0</th>\n",
              "      <td>-0.836932</td>\n",
              "      <td>-0.311564</td>\n",
              "      <td>-0.710099</td>\n",
              "      <td>-0.021237</td>\n",
              "      <td>-0.516397</td>\n",
              "      <td>-1.286751</td>\n",
              "      <td>-0.465148</td>\n",
              "      <td>2.012852</td>\n",
              "    </tr>\n",
              "    <tr>\n",
              "      <th>32.0</th>\n",
              "      <td>-1.076553</td>\n",
              "      <td>-1.151543</td>\n",
              "      <td>-1.169870</td>\n",
              "      <td>1.233589</td>\n",
              "      <td>-0.516397</td>\n",
              "      <td>-1.286751</td>\n",
              "      <td>-0.465148</td>\n",
              "      <td>2.012852</td>\n",
              "    </tr>\n",
              "    <tr>\n",
              "      <th>28.0</th>\n",
              "      <td>-0.846517</td>\n",
              "      <td>-0.495310</td>\n",
              "      <td>-0.623596</td>\n",
              "      <td>-0.021237</td>\n",
              "      <td>0.027726</td>\n",
              "      <td>-1.286751</td>\n",
              "      <td>2.143005</td>\n",
              "      <td>-0.495225</td>\n",
              "    </tr>\n",
              "  </tbody>\n",
              "</table>\n",
              "<p>314 rows × 8 columns</p>\n",
              "</div>"
            ],
            "text/plain": [
              "      Cylinders  Displacement  HorsepowerWeight  ...       USA    Europe     Japan\n",
              "28.0  -1.009459     -0.784052         -1.025303  ...  0.774676 -0.465148 -0.495225\n",
              "22.3  -0.530218     -0.442811         -0.118796  ...  0.774676 -0.465148 -0.495225\n",
              "12.0   1.482595      1.447140          1.736877  ...  0.774676 -0.465148 -0.495225\n",
              "38.0  -0.865687     -1.099044         -1.025303  ...  0.774676 -0.465148 -0.495225\n",
              "33.8  -0.942365     -0.994047         -1.001603  ... -1.286751 -0.465148  2.012852\n",
              "...         ...           ...               ...  ...       ...       ...       ...\n",
              "19.8   0.044872     -0.521559         -0.000298  ...  0.774676 -0.465148 -0.495225\n",
              "16.0   1.961837      1.972127          1.457223  ...  0.774676 -0.465148 -0.495225\n",
              "26.0  -0.836932     -0.311564         -0.710099  ... -1.286751 -0.465148  2.012852\n",
              "32.0  -1.076553     -1.151543         -1.169870  ... -1.286751 -0.465148  2.012852\n",
              "28.0  -0.846517     -0.495310         -0.623596  ... -1.286751  2.143005 -0.495225\n",
              "\n",
              "[314 rows x 8 columns]"
            ]
          },
          "metadata": {
            "tags": []
          },
          "execution_count": 65
        }
      ]
    },
    {
      "cell_type": "code",
      "metadata": {
        "id": "6M6BteYXYwoD",
        "colab_type": "code",
        "colab": {}
      },
      "source": [
        "normed_test_data = norm(test_dataset)"
      ],
      "execution_count": 0,
      "outputs": []
    },
    {
      "cell_type": "code",
      "metadata": {
        "id": "pUyW8bEmY0zY",
        "colab_type": "code",
        "colab": {
          "base_uri": "https://localhost:8080/",
          "height": 723
        },
        "outputId": "aec8aeb5-30a8-4552-8009-3bc46a9912cf"
      },
      "source": [
        "normed_test_data"
      ],
      "execution_count": 67,
      "outputs": [
        {
          "output_type": "execute_result",
          "data": {
            "text/html": [
              "<div>\n",
              "<style scoped>\n",
              "    .dataframe tbody tr th:only-of-type {\n",
              "        vertical-align: middle;\n",
              "    }\n",
              "\n",
              "    .dataframe tbody tr th {\n",
              "        vertical-align: top;\n",
              "    }\n",
              "\n",
              "    .dataframe thead th {\n",
              "        text-align: right;\n",
              "    }\n",
              "</style>\n",
              "<table border=\"1\" class=\"dataframe\">\n",
              "  <thead>\n",
              "    <tr style=\"text-align: right;\">\n",
              "      <th></th>\n",
              "      <th>Cylinders</th>\n",
              "      <th>Displacement</th>\n",
              "      <th>HorsepowerWeight</th>\n",
              "      <th>Acceleration</th>\n",
              "      <th>Model Year</th>\n",
              "      <th>USA</th>\n",
              "      <th>Europe</th>\n",
              "      <th>Japan</th>\n",
              "    </tr>\n",
              "  </thead>\n",
              "  <tbody>\n",
              "    <tr>\n",
              "      <th>9.0</th>\n",
              "      <td>1.041693</td>\n",
              "      <td>2.313368</td>\n",
              "      <td>2.063931</td>\n",
              "      <td>1.054328</td>\n",
              "      <td>-1.604642</td>\n",
              "      <td>0.774676</td>\n",
              "      <td>-0.465148</td>\n",
              "      <td>-0.495225</td>\n",
              "    </tr>\n",
              "    <tr>\n",
              "      <th>22.5</th>\n",
              "      <td>0.351586</td>\n",
              "      <td>-0.390312</td>\n",
              "      <td>0.112275</td>\n",
              "      <td>0.731659</td>\n",
              "      <td>0.027726</td>\n",
              "      <td>0.774676</td>\n",
              "      <td>-0.465148</td>\n",
              "      <td>-0.495225</td>\n",
              "    </tr>\n",
              "    <tr>\n",
              "      <th>43.1</th>\n",
              "      <td>-1.009459</td>\n",
              "      <td>-1.492784</td>\n",
              "      <td>-1.191200</td>\n",
              "      <td>2.129894</td>\n",
              "      <td>0.571849</td>\n",
              "      <td>-1.286751</td>\n",
              "      <td>2.143005</td>\n",
              "      <td>-0.495225</td>\n",
              "    </tr>\n",
              "    <tr>\n",
              "      <th>32.8</th>\n",
              "      <td>-1.124477</td>\n",
              "      <td>-1.387787</td>\n",
              "      <td>-1.191200</td>\n",
              "      <td>1.376998</td>\n",
              "      <td>0.571849</td>\n",
              "      <td>-1.286751</td>\n",
              "      <td>-0.465148</td>\n",
              "      <td>2.012852</td>\n",
              "    </tr>\n",
              "    <tr>\n",
              "      <th>20.8</th>\n",
              "      <td>0.044872</td>\n",
              "      <td>-0.521559</td>\n",
              "      <td>0.094500</td>\n",
              "      <td>0.408989</td>\n",
              "      <td>0.571849</td>\n",
              "      <td>0.774676</td>\n",
              "      <td>-0.465148</td>\n",
              "      <td>-0.495225</td>\n",
              "    </tr>\n",
              "    <tr>\n",
              "      <th>27.5</th>\n",
              "      <td>-0.587727</td>\n",
              "      <td>-0.259066</td>\n",
              "      <td>-0.509838</td>\n",
              "      <td>-0.487316</td>\n",
              "      <td>0.571849</td>\n",
              "      <td>-1.286751</td>\n",
              "      <td>-0.465148</td>\n",
              "      <td>2.012852</td>\n",
              "    </tr>\n",
              "    <tr>\n",
              "      <th>30.9</th>\n",
              "      <td>-0.865687</td>\n",
              "      <td>-0.784052</td>\n",
              "      <td>-0.900880</td>\n",
              "      <td>-0.379759</td>\n",
              "      <td>0.571849</td>\n",
              "      <td>0.774676</td>\n",
              "      <td>-0.465148</td>\n",
              "      <td>-0.495225</td>\n",
              "    </tr>\n",
              "    <tr>\n",
              "      <th>31.9</th>\n",
              "      <td>-1.019044</td>\n",
              "      <td>-0.889050</td>\n",
              "      <td>-1.262298</td>\n",
              "      <td>-0.559020</td>\n",
              "      <td>0.843910</td>\n",
              "      <td>-1.286751</td>\n",
              "      <td>2.143005</td>\n",
              "      <td>-0.495225</td>\n",
              "    </tr>\n",
              "    <tr>\n",
              "      <th>34.1</th>\n",
              "      <td>-1.047798</td>\n",
              "      <td>-1.046546</td>\n",
              "      <td>-1.203049</td>\n",
              "      <td>-0.128794</td>\n",
              "      <td>0.843910</td>\n",
              "      <td>-1.286751</td>\n",
              "      <td>-0.465148</td>\n",
              "      <td>2.012852</td>\n",
              "    </tr>\n",
              "    <tr>\n",
              "      <th>19.1</th>\n",
              "      <td>0.284492</td>\n",
              "      <td>-0.390312</td>\n",
              "      <td>0.463028</td>\n",
              "      <td>1.126033</td>\n",
              "      <td>1.115971</td>\n",
              "      <td>0.774676</td>\n",
              "      <td>-0.465148</td>\n",
              "      <td>-0.495225</td>\n",
              "    </tr>\n",
              "    <tr>\n",
              "      <th>27.9</th>\n",
              "      <td>-0.376861</td>\n",
              "      <td>0.003427</td>\n",
              "      <td>-0.225444</td>\n",
              "      <td>-0.415611</td>\n",
              "      <td>1.115971</td>\n",
              "      <td>0.774676</td>\n",
              "      <td>-0.465148</td>\n",
              "      <td>-0.495225</td>\n",
              "    </tr>\n",
              "    <tr>\n",
              "      <th>44.3</th>\n",
              "      <td>-1.009459</td>\n",
              "      <td>-1.492784</td>\n",
              "      <td>-1.072702</td>\n",
              "      <td>2.201599</td>\n",
              "      <td>1.115971</td>\n",
              "      <td>-1.286751</td>\n",
              "      <td>2.143005</td>\n",
              "      <td>-0.495225</td>\n",
              "    </tr>\n",
              "    <tr>\n",
              "      <th>26.6</th>\n",
              "      <td>-0.424785</td>\n",
              "      <td>-0.547808</td>\n",
              "      <td>-0.420965</td>\n",
              "      <td>0.301432</td>\n",
              "      <td>1.388032</td>\n",
              "      <td>0.774676</td>\n",
              "      <td>-0.465148</td>\n",
              "      <td>-0.495225</td>\n",
              "    </tr>\n",
              "    <tr>\n",
              "      <th>23.5</th>\n",
              "      <td>-0.213919</td>\n",
              "      <td>0.134674</td>\n",
              "      <td>-0.314317</td>\n",
              "      <td>-1.060951</td>\n",
              "      <td>1.388032</td>\n",
              "      <td>0.774676</td>\n",
              "      <td>-0.465148</td>\n",
              "      <td>-0.495225</td>\n",
              "    </tr>\n",
              "    <tr>\n",
              "      <th>39.1</th>\n",
              "      <td>-1.114892</td>\n",
              "      <td>-1.230291</td>\n",
              "      <td>-1.463744</td>\n",
              "      <td>0.480693</td>\n",
              "      <td>1.388032</td>\n",
              "      <td>-1.286751</td>\n",
              "      <td>-0.465148</td>\n",
              "      <td>2.012852</td>\n",
              "    </tr>\n",
              "    <tr>\n",
              "      <th>34.1</th>\n",
              "      <td>-0.999874</td>\n",
              "      <td>-0.967798</td>\n",
              "      <td>-1.191200</td>\n",
              "      <td>0.158024</td>\n",
              "      <td>1.388032</td>\n",
              "      <td>-1.286751</td>\n",
              "      <td>-0.465148</td>\n",
              "      <td>2.012852</td>\n",
              "    </tr>\n",
              "    <tr>\n",
              "      <th>34.4</th>\n",
              "      <td>-0.932781</td>\n",
              "      <td>-1.046546</td>\n",
              "      <td>-1.120101</td>\n",
              "      <td>0.229728</td>\n",
              "      <td>1.388032</td>\n",
              "      <td>0.774676</td>\n",
              "      <td>-0.465148</td>\n",
              "      <td>-0.495225</td>\n",
              "    </tr>\n",
              "    <tr>\n",
              "      <th>28.1</th>\n",
              "      <td>-0.520633</td>\n",
              "      <td>-0.652806</td>\n",
              "      <td>0.284096</td>\n",
              "      <td>1.735520</td>\n",
              "      <td>1.388032</td>\n",
              "      <td>-1.286751</td>\n",
              "      <td>2.143005</td>\n",
              "      <td>-0.495225</td>\n",
              "    </tr>\n",
              "    <tr>\n",
              "      <th>22.4</th>\n",
              "      <td>0.342001</td>\n",
              "      <td>0.134674</td>\n",
              "      <td>0.503317</td>\n",
              "      <td>0.086319</td>\n",
              "      <td>1.388032</td>\n",
              "      <td>0.774676</td>\n",
              "      <td>-0.465148</td>\n",
              "      <td>-0.495225</td>\n",
              "    </tr>\n",
              "    <tr>\n",
              "      <th>26.6</th>\n",
              "      <td>1.482595</td>\n",
              "      <td>0.003427</td>\n",
              "      <td>0.870660</td>\n",
              "      <td>1.233589</td>\n",
              "      <td>1.388032</td>\n",
              "      <td>0.774676</td>\n",
              "      <td>-0.465148</td>\n",
              "      <td>-0.495225</td>\n",
              "    </tr>\n",
              "    <tr>\n",
              "      <th>34.0</th>\n",
              "      <td>-0.798593</td>\n",
              "      <td>-0.442811</td>\n",
              "      <td>-0.705359</td>\n",
              "      <td>0.875068</td>\n",
              "      <td>1.660094</td>\n",
              "      <td>0.774676</td>\n",
              "      <td>-0.465148</td>\n",
              "      <td>-0.495225</td>\n",
              "    </tr>\n",
              "    <tr>\n",
              "      <th>34.0</th>\n",
              "      <td>-0.836932</td>\n",
              "      <td>-0.915299</td>\n",
              "      <td>-0.883106</td>\n",
              "      <td>0.480693</td>\n",
              "      <td>1.660094</td>\n",
              "      <td>-1.286751</td>\n",
              "      <td>-0.465148</td>\n",
              "      <td>2.012852</td>\n",
              "    </tr>\n",
              "  </tbody>\n",
              "</table>\n",
              "</div>"
            ],
            "text/plain": [
              "      Cylinders  Displacement  HorsepowerWeight  ...       USA    Europe     Japan\n",
              "9.0    1.041693      2.313368          2.063931  ...  0.774676 -0.465148 -0.495225\n",
              "22.5   0.351586     -0.390312          0.112275  ...  0.774676 -0.465148 -0.495225\n",
              "43.1  -1.009459     -1.492784         -1.191200  ... -1.286751  2.143005 -0.495225\n",
              "32.8  -1.124477     -1.387787         -1.191200  ... -1.286751 -0.465148  2.012852\n",
              "20.8   0.044872     -0.521559          0.094500  ...  0.774676 -0.465148 -0.495225\n",
              "27.5  -0.587727     -0.259066         -0.509838  ... -1.286751 -0.465148  2.012852\n",
              "30.9  -0.865687     -0.784052         -0.900880  ...  0.774676 -0.465148 -0.495225\n",
              "31.9  -1.019044     -0.889050         -1.262298  ... -1.286751  2.143005 -0.495225\n",
              "34.1  -1.047798     -1.046546         -1.203049  ... -1.286751 -0.465148  2.012852\n",
              "19.1   0.284492     -0.390312          0.463028  ...  0.774676 -0.465148 -0.495225\n",
              "27.9  -0.376861      0.003427         -0.225444  ...  0.774676 -0.465148 -0.495225\n",
              "44.3  -1.009459     -1.492784         -1.072702  ... -1.286751  2.143005 -0.495225\n",
              "26.6  -0.424785     -0.547808         -0.420965  ...  0.774676 -0.465148 -0.495225\n",
              "23.5  -0.213919      0.134674         -0.314317  ...  0.774676 -0.465148 -0.495225\n",
              "39.1  -1.114892     -1.230291         -1.463744  ... -1.286751 -0.465148  2.012852\n",
              "34.1  -0.999874     -0.967798         -1.191200  ... -1.286751 -0.465148  2.012852\n",
              "34.4  -0.932781     -1.046546         -1.120101  ...  0.774676 -0.465148 -0.495225\n",
              "28.1  -0.520633     -0.652806          0.284096  ... -1.286751  2.143005 -0.495225\n",
              "22.4   0.342001      0.134674          0.503317  ...  0.774676 -0.465148 -0.495225\n",
              "26.6   1.482595      0.003427          0.870660  ...  0.774676 -0.465148 -0.495225\n",
              "34.0  -0.798593     -0.442811         -0.705359  ...  0.774676 -0.465148 -0.495225\n",
              "34.0  -0.836932     -0.915299         -0.883106  ... -1.286751 -0.465148  2.012852\n",
              "\n",
              "[22 rows x 8 columns]"
            ]
          },
          "metadata": {
            "tags": []
          },
          "execution_count": 67
        }
      ]
    },
    {
      "cell_type": "markdown",
      "metadata": {
        "id": "gTgk5A_9Y5ip",
        "colab_type": "text"
      },
      "source": [
        "# 모델"
      ]
    },
    {
      "cell_type": "markdown",
      "metadata": {
        "id": "c4NwzKACY7Ai",
        "colab_type": "text"
      },
      "source": [
        "## 모델 만들기"
      ]
    },
    {
      "cell_type": "code",
      "metadata": {
        "id": "TefR2wk6Y1k7",
        "colab_type": "code",
        "colab": {}
      },
      "source": [
        "def build_model():\n",
        "  model = keras.Sequential([\n",
        "                            layers.Dense(64, activation='relu', input_shape=[len(train_dataset.keys())]),\n",
        "                            layers.Dense(64, activation='relu'),\n",
        "                            layers.Dense(1)\n",
        "  ])\n",
        "\n",
        "  optimizer = tf.keras.optimizers.RMSprop(0.001)\n",
        "\n",
        "  model.compile(loss='mse',\n",
        "                optimizer=optimizer,\n",
        "                metrics=['mae', 'mse'])\n",
        "  \n",
        "  return model"
      ],
      "execution_count": 0,
      "outputs": []
    },
    {
      "cell_type": "code",
      "metadata": {
        "id": "4_Ywu_Fqb8ym",
        "colab_type": "code",
        "colab": {}
      },
      "source": [
        "model = build_model()"
      ],
      "execution_count": 0,
      "outputs": []
    },
    {
      "cell_type": "markdown",
      "metadata": {
        "id": "BYu3wSH7cBHa",
        "colab_type": "text"
      },
      "source": [
        "## 모델 확인"
      ]
    },
    {
      "cell_type": "code",
      "metadata": {
        "id": "HPCZF2iMb_MT",
        "colab_type": "code",
        "colab": {
          "base_uri": "https://localhost:8080/",
          "height": 279
        },
        "outputId": "156eef60-f4a2-4883-a947-63618fcfea5c"
      },
      "source": [
        "model.summary()"
      ],
      "execution_count": 70,
      "outputs": [
        {
          "output_type": "stream",
          "text": [
            "Model: \"sequential\"\n",
            "_________________________________________________________________\n",
            "Layer (type)                 Output Shape              Param #   \n",
            "=================================================================\n",
            "dense (Dense)                (None, 64)                576       \n",
            "_________________________________________________________________\n",
            "dense_1 (Dense)              (None, 64)                4160      \n",
            "_________________________________________________________________\n",
            "dense_2 (Dense)              (None, 1)                 65        \n",
            "=================================================================\n",
            "Total params: 4,801\n",
            "Trainable params: 4,801\n",
            "Non-trainable params: 0\n",
            "_________________________________________________________________\n"
          ],
          "name": "stdout"
        }
      ]
    },
    {
      "cell_type": "code",
      "metadata": {
        "id": "qh4breWKcEw5",
        "colab_type": "code",
        "colab": {
          "base_uri": "https://localhost:8080/",
          "height": 1000
        },
        "outputId": "d73b346e-ef75-46e4-b894-0df71a184c55"
      },
      "source": [
        "example_batch = normed_train_data[:10]\n",
        "example_result = model.predict(example_batch)\n",
        "example_batch"
      ],
      "execution_count": 71,
      "outputs": [
        {
          "output_type": "execute_result",
          "data": {
            "text/html": [
              "<div>\n",
              "<style scoped>\n",
              "    .dataframe tbody tr th:only-of-type {\n",
              "        vertical-align: middle;\n",
              "    }\n",
              "\n",
              "    .dataframe tbody tr th {\n",
              "        vertical-align: top;\n",
              "    }\n",
              "\n",
              "    .dataframe thead th {\n",
              "        text-align: right;\n",
              "    }\n",
              "</style>\n",
              "<table border=\"1\" class=\"dataframe\">\n",
              "  <thead>\n",
              "    <tr style=\"text-align: right;\">\n",
              "      <th></th>\n",
              "      <th>Cylinders</th>\n",
              "      <th>Displacement</th>\n",
              "      <th>HorsepowerWeight</th>\n",
              "      <th>Acceleration</th>\n",
              "      <th>Model Year</th>\n",
              "      <th>USA</th>\n",
              "      <th>Europe</th>\n",
              "      <th>Japan</th>\n",
              "    </tr>\n",
              "  </thead>\n",
              "  <tbody>\n",
              "    <tr>\n",
              "      <th>28.0</th>\n",
              "      <td>-1.009459</td>\n",
              "      <td>-0.784052</td>\n",
              "      <td>-1.025303</td>\n",
              "      <td>-0.379759</td>\n",
              "      <td>-0.516397</td>\n",
              "      <td>0.774676</td>\n",
              "      <td>-0.465148</td>\n",
              "      <td>-0.495225</td>\n",
              "    </tr>\n",
              "    <tr>\n",
              "      <th>22.3</th>\n",
              "      <td>-0.530218</td>\n",
              "      <td>-0.442811</td>\n",
              "      <td>-0.118796</td>\n",
              "      <td>0.624102</td>\n",
              "      <td>0.843910</td>\n",
              "      <td>0.774676</td>\n",
              "      <td>-0.465148</td>\n",
              "      <td>-0.495225</td>\n",
              "    </tr>\n",
              "    <tr>\n",
              "      <th>12.0</th>\n",
              "      <td>1.482595</td>\n",
              "      <td>1.447140</td>\n",
              "      <td>1.736877</td>\n",
              "      <td>-0.738281</td>\n",
              "      <td>-1.060519</td>\n",
              "      <td>0.774676</td>\n",
              "      <td>-0.465148</td>\n",
              "      <td>-0.495225</td>\n",
              "    </tr>\n",
              "    <tr>\n",
              "      <th>38.0</th>\n",
              "      <td>-0.865687</td>\n",
              "      <td>-1.099044</td>\n",
              "      <td>-1.025303</td>\n",
              "      <td>-0.308055</td>\n",
              "      <td>1.660094</td>\n",
              "      <td>0.774676</td>\n",
              "      <td>-0.465148</td>\n",
              "      <td>-0.495225</td>\n",
              "    </tr>\n",
              "    <tr>\n",
              "      <th>33.8</th>\n",
              "      <td>-0.942365</td>\n",
              "      <td>-0.994047</td>\n",
              "      <td>-1.001603</td>\n",
              "      <td>0.875068</td>\n",
              "      <td>1.115971</td>\n",
              "      <td>-1.286751</td>\n",
              "      <td>-0.465148</td>\n",
              "      <td>2.012852</td>\n",
              "    </tr>\n",
              "    <tr>\n",
              "      <th>19.4</th>\n",
              "      <td>0.351586</td>\n",
              "      <td>-0.390312</td>\n",
              "      <td>0.260397</td>\n",
              "      <td>0.588250</td>\n",
              "      <td>0.571849</td>\n",
              "      <td>0.774676</td>\n",
              "      <td>-0.465148</td>\n",
              "      <td>-0.495225</td>\n",
              "    </tr>\n",
              "    <tr>\n",
              "      <th>38.1</th>\n",
              "      <td>-1.019044</td>\n",
              "      <td>-1.177792</td>\n",
              "      <td>-1.211344</td>\n",
              "      <td>1.161885</td>\n",
              "      <td>1.115971</td>\n",
              "      <td>-1.286751</td>\n",
              "      <td>-0.465148</td>\n",
              "      <td>2.012852</td>\n",
              "    </tr>\n",
              "    <tr>\n",
              "      <th>30.0</th>\n",
              "      <td>-0.472709</td>\n",
              "      <td>-0.994047</td>\n",
              "      <td>0.307796</td>\n",
              "      <td>2.237451</td>\n",
              "      <td>1.115971</td>\n",
              "      <td>-1.286751</td>\n",
              "      <td>2.143005</td>\n",
              "      <td>-0.495225</td>\n",
              "    </tr>\n",
              "    <tr>\n",
              "      <th>20.0</th>\n",
              "      <td>0.025702</td>\n",
              "      <td>-0.259066</td>\n",
              "      <td>0.132419</td>\n",
              "      <td>0.337285</td>\n",
              "      <td>-0.516397</td>\n",
              "      <td>0.774676</td>\n",
              "      <td>-0.465148</td>\n",
              "      <td>-0.495225</td>\n",
              "    </tr>\n",
              "    <tr>\n",
              "      <th>20.0</th>\n",
              "      <td>-0.942365</td>\n",
              "      <td>-0.442811</td>\n",
              "      <td>-0.842816</td>\n",
              "      <td>1.233589</td>\n",
              "      <td>-0.788458</td>\n",
              "      <td>-1.286751</td>\n",
              "      <td>-0.465148</td>\n",
              "      <td>2.012852</td>\n",
              "    </tr>\n",
              "    <tr>\n",
              "      <th>27.0</th>\n",
              "      <td>-0.942365</td>\n",
              "      <td>-1.177792</td>\n",
              "      <td>-1.370131</td>\n",
              "      <td>1.233589</td>\n",
              "      <td>-1.332580</td>\n",
              "      <td>-1.286751</td>\n",
              "      <td>2.143005</td>\n",
              "      <td>-0.495225</td>\n",
              "    </tr>\n",
              "    <tr>\n",
              "      <th>16.5</th>\n",
              "      <td>1.482595</td>\n",
              "      <td>1.972127</td>\n",
              "      <td>1.646819</td>\n",
              "      <td>-1.240212</td>\n",
              "      <td>0.027726</td>\n",
              "      <td>0.774676</td>\n",
              "      <td>-0.465148</td>\n",
              "      <td>-0.495225</td>\n",
              "    </tr>\n",
              "    <tr>\n",
              "      <th>24.5</th>\n",
              "      <td>-0.424785</td>\n",
              "      <td>-0.442811</td>\n",
              "      <td>-0.296542</td>\n",
              "      <td>0.158024</td>\n",
              "      <td>0.299787</td>\n",
              "      <td>0.774676</td>\n",
              "      <td>-0.465148</td>\n",
              "      <td>-0.495225</td>\n",
              "    </tr>\n",
              "    <tr>\n",
              "      <th>11.0</th>\n",
              "      <td>1.961837</td>\n",
              "      <td>1.184647</td>\n",
              "      <td>2.377950</td>\n",
              "      <td>-0.559020</td>\n",
              "      <td>-0.788458</td>\n",
              "      <td>0.774676</td>\n",
              "      <td>-0.465148</td>\n",
              "      <td>-0.495225</td>\n",
              "    </tr>\n",
              "    <tr>\n",
              "      <th>16.9</th>\n",
              "      <td>1.482595</td>\n",
              "      <td>1.315894</td>\n",
              "      <td>1.623120</td>\n",
              "      <td>-0.236350</td>\n",
              "      <td>0.843910</td>\n",
              "      <td>0.774676</td>\n",
              "      <td>-0.465148</td>\n",
              "      <td>-0.495225</td>\n",
              "    </tr>\n",
              "    <tr>\n",
              "      <th>33.7</th>\n",
              "      <td>-0.846517</td>\n",
              "      <td>-0.784052</td>\n",
              "      <td>-0.924580</td>\n",
              "      <td>-0.415611</td>\n",
              "      <td>1.388032</td>\n",
              "      <td>-1.286751</td>\n",
              "      <td>-0.465148</td>\n",
              "      <td>2.012852</td>\n",
              "    </tr>\n",
              "    <tr>\n",
              "      <th>21.6</th>\n",
              "      <td>-0.712330</td>\n",
              "      <td>0.265921</td>\n",
              "      <td>-0.231369</td>\n",
              "      <td>0.050467</td>\n",
              "      <td>0.571849</td>\n",
              "      <td>-1.286751</td>\n",
              "      <td>2.143005</td>\n",
              "      <td>-0.495225</td>\n",
              "    </tr>\n",
              "    <tr>\n",
              "      <th>14.0</th>\n",
              "      <td>1.175881</td>\n",
              "      <td>1.184647</td>\n",
              "      <td>1.287771</td>\n",
              "      <td>-0.559020</td>\n",
              "      <td>-1.060519</td>\n",
              "      <td>0.774676</td>\n",
              "      <td>-0.465148</td>\n",
              "      <td>-0.495225</td>\n",
              "    </tr>\n",
              "    <tr>\n",
              "      <th>26.0</th>\n",
              "      <td>-0.932781</td>\n",
              "      <td>-0.390312</td>\n",
              "      <td>-0.859406</td>\n",
              "      <td>-0.021237</td>\n",
              "      <td>-0.788458</td>\n",
              "      <td>-1.286751</td>\n",
              "      <td>2.143005</td>\n",
              "      <td>-0.495225</td>\n",
              "    </tr>\n",
              "    <tr>\n",
              "      <th>28.4</th>\n",
              "      <td>-0.424785</td>\n",
              "      <td>-0.390312</td>\n",
              "      <td>-0.379491</td>\n",
              "      <td>0.158024</td>\n",
              "      <td>0.843910</td>\n",
              "      <td>0.774676</td>\n",
              "      <td>-0.465148</td>\n",
              "      <td>-0.495225</td>\n",
              "    </tr>\n",
              "    <tr>\n",
              "      <th>13.0</th>\n",
              "      <td>1.022524</td>\n",
              "      <td>0.633411</td>\n",
              "      <td>0.211813</td>\n",
              "      <td>-1.276064</td>\n",
              "      <td>-0.244335</td>\n",
              "      <td>0.774676</td>\n",
              "      <td>-0.465148</td>\n",
              "      <td>-0.495225</td>\n",
              "    </tr>\n",
              "    <tr>\n",
              "      <th>16.0</th>\n",
              "      <td>0.600791</td>\n",
              "      <td>0.134674</td>\n",
              "      <td>0.760457</td>\n",
              "      <td>0.875068</td>\n",
              "      <td>-0.516397</td>\n",
              "      <td>0.774676</td>\n",
              "      <td>-0.465148</td>\n",
              "      <td>-0.495225</td>\n",
              "    </tr>\n",
              "    <tr>\n",
              "      <th>20.0</th>\n",
              "      <td>-0.530218</td>\n",
              "      <td>-0.390312</td>\n",
              "      <td>-0.689954</td>\n",
              "      <td>1.412850</td>\n",
              "      <td>-1.060519</td>\n",
              "      <td>0.774676</td>\n",
              "      <td>-0.465148</td>\n",
              "      <td>-0.495225</td>\n",
              "    </tr>\n",
              "    <tr>\n",
              "      <th>25.0</th>\n",
              "      <td>-0.137240</td>\n",
              "      <td>0.134674</td>\n",
              "      <td>-0.053622</td>\n",
              "      <td>0.301432</td>\n",
              "      <td>1.660094</td>\n",
              "      <td>0.774676</td>\n",
              "      <td>-0.465148</td>\n",
              "      <td>-0.495225</td>\n",
              "    </tr>\n",
              "    <tr>\n",
              "      <th>41.5</th>\n",
              "      <td>-0.932781</td>\n",
              "      <td>-0.757803</td>\n",
              "      <td>-1.002788</td>\n",
              "      <td>-0.308055</td>\n",
              "      <td>1.115971</td>\n",
              "      <td>-1.286751</td>\n",
              "      <td>2.143005</td>\n",
              "      <td>-0.495225</td>\n",
              "    </tr>\n",
              "    <tr>\n",
              "      <th>14.0</th>\n",
              "      <td>1.482595</td>\n",
              "      <td>1.578387</td>\n",
              "      <td>1.444188</td>\n",
              "      <td>-1.276064</td>\n",
              "      <td>-1.332580</td>\n",
              "      <td>0.774676</td>\n",
              "      <td>-0.465148</td>\n",
              "      <td>-0.495225</td>\n",
              "    </tr>\n",
              "    <tr>\n",
              "      <th>25.8</th>\n",
              "      <td>-0.376861</td>\n",
              "      <td>-0.337814</td>\n",
              "      <td>-0.438739</td>\n",
              "      <td>-0.415611</td>\n",
              "      <td>1.388032</td>\n",
              "      <td>0.774676</td>\n",
              "      <td>-0.465148</td>\n",
              "      <td>-0.495225</td>\n",
              "    </tr>\n",
              "    <tr>\n",
              "      <th>25.1</th>\n",
              "      <td>-0.530218</td>\n",
              "      <td>-0.442811</td>\n",
              "      <td>-0.320242</td>\n",
              "      <td>-0.057089</td>\n",
              "      <td>0.571849</td>\n",
              "      <td>0.774676</td>\n",
              "      <td>-0.465148</td>\n",
              "      <td>-0.495225</td>\n",
              "    </tr>\n",
              "    <tr>\n",
              "      <th>20.0</th>\n",
              "      <td>0.351586</td>\n",
              "      <td>-0.127819</td>\n",
              "      <td>-0.090356</td>\n",
              "      <td>0.158024</td>\n",
              "      <td>-0.244335</td>\n",
              "      <td>0.774676</td>\n",
              "      <td>-0.465148</td>\n",
              "      <td>-0.495225</td>\n",
              "    </tr>\n",
              "    <tr>\n",
              "      <th>17.0</th>\n",
              "      <td>1.041693</td>\n",
              "      <td>1.184647</td>\n",
              "      <td>0.807856</td>\n",
              "      <td>-1.455325</td>\n",
              "      <td>-1.060519</td>\n",
              "      <td>0.774676</td>\n",
              "      <td>-0.465148</td>\n",
              "      <td>-0.495225</td>\n",
              "    </tr>\n",
              "    <tr>\n",
              "      <th>20.0</th>\n",
              "      <td>-0.376861</td>\n",
              "      <td>0.449666</td>\n",
              "      <td>-0.217149</td>\n",
              "      <td>-0.738281</td>\n",
              "      <td>-0.788458</td>\n",
              "      <td>-1.286751</td>\n",
              "      <td>-0.465148</td>\n",
              "      <td>2.012852</td>\n",
              "    </tr>\n",
              "    <tr>\n",
              "      <th>31.6</th>\n",
              "      <td>-0.721914</td>\n",
              "      <td>-0.810302</td>\n",
              "      <td>-0.420965</td>\n",
              "      <td>0.982624</td>\n",
              "      <td>1.388032</td>\n",
              "      <td>-1.286751</td>\n",
              "      <td>-0.465148</td>\n",
              "      <td>2.012852</td>\n",
              "    </tr>\n",
              "    <tr>\n",
              "      <th>22.0</th>\n",
              "      <td>-0.712330</td>\n",
              "      <td>-0.757803</td>\n",
              "      <td>-0.567902</td>\n",
              "      <td>0.875068</td>\n",
              "      <td>-1.060519</td>\n",
              "      <td>-1.286751</td>\n",
              "      <td>2.143005</td>\n",
              "      <td>-0.495225</td>\n",
              "    </tr>\n",
              "    <tr>\n",
              "      <th>26.0</th>\n",
              "      <td>-1.114892</td>\n",
              "      <td>-0.994047</td>\n",
              "      <td>-1.217269</td>\n",
              "      <td>-0.021237</td>\n",
              "      <td>-0.516397</td>\n",
              "      <td>-1.286751</td>\n",
              "      <td>2.143005</td>\n",
              "      <td>-0.495225</td>\n",
              "    </tr>\n",
              "    <tr>\n",
              "      <th>21.0</th>\n",
              "      <td>0.342001</td>\n",
              "      <td>0.134674</td>\n",
              "      <td>0.057766</td>\n",
              "      <td>-0.200498</td>\n",
              "      <td>-0.244335</td>\n",
              "      <td>0.774676</td>\n",
              "      <td>-0.465148</td>\n",
              "      <td>-0.495225</td>\n",
              "    </tr>\n",
              "    <tr>\n",
              "      <th>29.8</th>\n",
              "      <td>-0.587727</td>\n",
              "      <td>-0.390312</td>\n",
              "      <td>-0.330907</td>\n",
              "      <td>-0.021237</td>\n",
              "      <td>1.115971</td>\n",
              "      <td>-1.286751</td>\n",
              "      <td>-0.465148</td>\n",
              "      <td>2.012852</td>\n",
              "    </tr>\n",
              "    <tr>\n",
              "      <th>31.0</th>\n",
              "      <td>-1.191571</td>\n",
              "      <td>-1.046546</td>\n",
              "      <td>-1.442415</td>\n",
              "      <td>1.233589</td>\n",
              "      <td>-1.332580</td>\n",
              "      <td>-1.286751</td>\n",
              "      <td>-0.465148</td>\n",
              "      <td>2.012852</td>\n",
              "    </tr>\n",
              "    <tr>\n",
              "      <th>13.0</th>\n",
              "      <td>1.961837</td>\n",
              "      <td>1.184647</td>\n",
              "      <td>1.746357</td>\n",
              "      <td>-1.276064</td>\n",
              "      <td>-0.788458</td>\n",
              "      <td>0.774676</td>\n",
              "      <td>-0.465148</td>\n",
              "      <td>-0.495225</td>\n",
              "    </tr>\n",
              "    <tr>\n",
              "      <th>16.0</th>\n",
              "      <td>1.175881</td>\n",
              "      <td>1.184647</td>\n",
              "      <td>1.421674</td>\n",
              "      <td>-0.917542</td>\n",
              "      <td>0.027726</td>\n",
              "      <td>0.774676</td>\n",
              "      <td>-0.465148</td>\n",
              "      <td>-0.495225</td>\n",
              "    </tr>\n",
              "    <tr>\n",
              "      <th>14.0</th>\n",
              "      <td>2.479417</td>\n",
              "      <td>3.022100</td>\n",
              "      <td>1.616010</td>\n",
              "      <td>-2.351630</td>\n",
              "      <td>-1.604642</td>\n",
              "      <td>0.774676</td>\n",
              "      <td>-0.465148</td>\n",
              "      <td>-0.495225</td>\n",
              "    </tr>\n",
              "    <tr>\n",
              "      <th>15.0</th>\n",
              "      <td>1.482595</td>\n",
              "      <td>1.578387</td>\n",
              "      <td>0.832740</td>\n",
              "      <td>-1.455325</td>\n",
              "      <td>-1.604642</td>\n",
              "      <td>0.774676</td>\n",
              "      <td>-0.465148</td>\n",
              "      <td>-0.495225</td>\n",
              "    </tr>\n",
              "    <tr>\n",
              "      <th>44.6</th>\n",
              "      <td>-0.999874</td>\n",
              "      <td>-0.994047</td>\n",
              "      <td>-1.351171</td>\n",
              "      <td>-0.630725</td>\n",
              "      <td>1.115971</td>\n",
              "      <td>-1.286751</td>\n",
              "      <td>-0.465148</td>\n",
              "      <td>2.012852</td>\n",
              "    </tr>\n",
              "    <tr>\n",
              "      <th>31.3</th>\n",
              "      <td>-0.721914</td>\n",
              "      <td>-0.784052</td>\n",
              "      <td>-0.531168</td>\n",
              "      <td>0.695807</td>\n",
              "      <td>1.115971</td>\n",
              "      <td>-1.286751</td>\n",
              "      <td>-0.465148</td>\n",
              "      <td>2.012852</td>\n",
              "    </tr>\n",
              "    <tr>\n",
              "      <th>16.0</th>\n",
              "      <td>1.022524</td>\n",
              "      <td>0.922154</td>\n",
              "      <td>1.363610</td>\n",
              "      <td>-0.559020</td>\n",
              "      <td>-0.516397</td>\n",
              "      <td>0.774676</td>\n",
              "      <td>-0.465148</td>\n",
              "      <td>-0.495225</td>\n",
              "    </tr>\n",
              "    <tr>\n",
              "      <th>29.0</th>\n",
              "      <td>-0.942365</td>\n",
              "      <td>-0.705304</td>\n",
              "      <td>-1.244523</td>\n",
              "      <td>-0.379759</td>\n",
              "      <td>0.299787</td>\n",
              "      <td>-1.286751</td>\n",
              "      <td>2.143005</td>\n",
              "      <td>-0.495225</td>\n",
              "    </tr>\n",
              "    <tr>\n",
              "      <th>16.0</th>\n",
              "      <td>1.492180</td>\n",
              "      <td>1.158398</td>\n",
              "      <td>1.593495</td>\n",
              "      <td>-0.379759</td>\n",
              "      <td>0.299787</td>\n",
              "      <td>0.774676</td>\n",
              "      <td>-0.465148</td>\n",
              "      <td>-0.495225</td>\n",
              "    </tr>\n",
              "    <tr>\n",
              "      <th>29.0</th>\n",
              "      <td>-0.578142</td>\n",
              "      <td>-0.547808</td>\n",
              "      <td>-0.551312</td>\n",
              "      <td>0.158024</td>\n",
              "      <td>1.660094</td>\n",
              "      <td>0.774676</td>\n",
              "      <td>-0.465148</td>\n",
              "      <td>-0.495225</td>\n",
              "    </tr>\n",
              "    <tr>\n",
              "      <th>13.0</th>\n",
              "      <td>1.482595</td>\n",
              "      <td>1.184647</td>\n",
              "      <td>2.024827</td>\n",
              "      <td>-0.379759</td>\n",
              "      <td>-0.516397</td>\n",
              "      <td>0.774676</td>\n",
              "      <td>-0.465148</td>\n",
              "      <td>-0.495225</td>\n",
              "    </tr>\n",
              "    <tr>\n",
              "      <th>17.5</th>\n",
              "      <td>1.051278</td>\n",
              "      <td>1.053401</td>\n",
              "      <td>1.054331</td>\n",
              "      <td>-1.096803</td>\n",
              "      <td>0.299787</td>\n",
              "      <td>0.774676</td>\n",
              "      <td>-0.465148</td>\n",
              "      <td>-0.495225</td>\n",
              "    </tr>\n",
              "    <tr>\n",
              "      <th>18.0</th>\n",
              "      <td>0.351586</td>\n",
              "      <td>-0.127819</td>\n",
              "      <td>-0.238478</td>\n",
              "      <td>-0.200498</td>\n",
              "      <td>-0.788458</td>\n",
              "      <td>0.774676</td>\n",
              "      <td>-0.465148</td>\n",
              "      <td>-0.495225</td>\n",
              "    </tr>\n",
              "    <tr>\n",
              "      <th>26.0</th>\n",
              "      <td>-0.760254</td>\n",
              "      <td>-0.784052</td>\n",
              "      <td>-0.881921</td>\n",
              "      <td>-0.559020</td>\n",
              "      <td>-0.516397</td>\n",
              "      <td>-1.286751</td>\n",
              "      <td>2.143005</td>\n",
              "      <td>-0.495225</td>\n",
              "    </tr>\n",
              "    <tr>\n",
              "      <th>15.0</th>\n",
              "      <td>1.798895</td>\n",
              "      <td>1.709634</td>\n",
              "      <td>0.678693</td>\n",
              "      <td>-1.993108</td>\n",
              "      <td>-1.604642</td>\n",
              "      <td>0.774676</td>\n",
              "      <td>-0.465148</td>\n",
              "      <td>-0.495225</td>\n",
              "    </tr>\n",
              "    <tr>\n",
              "      <th>10.0</th>\n",
              "      <td>1.070448</td>\n",
              "      <td>2.497114</td>\n",
              "      <td>1.642079</td>\n",
              "      <td>-0.200498</td>\n",
              "      <td>-1.604642</td>\n",
              "      <td>0.774676</td>\n",
              "      <td>-0.465148</td>\n",
              "      <td>-0.495225</td>\n",
              "    </tr>\n",
              "  </tbody>\n",
              "</table>\n",
              "</div>"
            ],
            "text/plain": [
              "      Cylinders  Displacement  HorsepowerWeight  ...       USA    Europe     Japan\n",
              "28.0  -1.009459     -0.784052         -1.025303  ...  0.774676 -0.465148 -0.495225\n",
              "22.3  -0.530218     -0.442811         -0.118796  ...  0.774676 -0.465148 -0.495225\n",
              "12.0   1.482595      1.447140          1.736877  ...  0.774676 -0.465148 -0.495225\n",
              "38.0  -0.865687     -1.099044         -1.025303  ...  0.774676 -0.465148 -0.495225\n",
              "33.8  -0.942365     -0.994047         -1.001603  ... -1.286751 -0.465148  2.012852\n",
              "19.4   0.351586     -0.390312          0.260397  ...  0.774676 -0.465148 -0.495225\n",
              "38.1  -1.019044     -1.177792         -1.211344  ... -1.286751 -0.465148  2.012852\n",
              "30.0  -0.472709     -0.994047          0.307796  ... -1.286751  2.143005 -0.495225\n",
              "20.0   0.025702     -0.259066          0.132419  ...  0.774676 -0.465148 -0.495225\n",
              "20.0  -0.942365     -0.442811         -0.842816  ... -1.286751 -0.465148  2.012852\n",
              "27.0  -0.942365     -1.177792         -1.370131  ... -1.286751  2.143005 -0.495225\n",
              "16.5   1.482595      1.972127          1.646819  ...  0.774676 -0.465148 -0.495225\n",
              "24.5  -0.424785     -0.442811         -0.296542  ...  0.774676 -0.465148 -0.495225\n",
              "11.0   1.961837      1.184647          2.377950  ...  0.774676 -0.465148 -0.495225\n",
              "16.9   1.482595      1.315894          1.623120  ...  0.774676 -0.465148 -0.495225\n",
              "33.7  -0.846517     -0.784052         -0.924580  ... -1.286751 -0.465148  2.012852\n",
              "21.6  -0.712330      0.265921         -0.231369  ... -1.286751  2.143005 -0.495225\n",
              "14.0   1.175881      1.184647          1.287771  ...  0.774676 -0.465148 -0.495225\n",
              "26.0  -0.932781     -0.390312         -0.859406  ... -1.286751  2.143005 -0.495225\n",
              "28.4  -0.424785     -0.390312         -0.379491  ...  0.774676 -0.465148 -0.495225\n",
              "13.0   1.022524      0.633411          0.211813  ...  0.774676 -0.465148 -0.495225\n",
              "16.0   0.600791      0.134674          0.760457  ...  0.774676 -0.465148 -0.495225\n",
              "20.0  -0.530218     -0.390312         -0.689954  ...  0.774676 -0.465148 -0.495225\n",
              "25.0  -0.137240      0.134674         -0.053622  ...  0.774676 -0.465148 -0.495225\n",
              "41.5  -0.932781     -0.757803         -1.002788  ... -1.286751  2.143005 -0.495225\n",
              "14.0   1.482595      1.578387          1.444188  ...  0.774676 -0.465148 -0.495225\n",
              "25.8  -0.376861     -0.337814         -0.438739  ...  0.774676 -0.465148 -0.495225\n",
              "25.1  -0.530218     -0.442811         -0.320242  ...  0.774676 -0.465148 -0.495225\n",
              "20.0   0.351586     -0.127819         -0.090356  ...  0.774676 -0.465148 -0.495225\n",
              "17.0   1.041693      1.184647          0.807856  ...  0.774676 -0.465148 -0.495225\n",
              "20.0  -0.376861      0.449666         -0.217149  ... -1.286751 -0.465148  2.012852\n",
              "31.6  -0.721914     -0.810302         -0.420965  ... -1.286751 -0.465148  2.012852\n",
              "22.0  -0.712330     -0.757803         -0.567902  ... -1.286751  2.143005 -0.495225\n",
              "26.0  -1.114892     -0.994047         -1.217269  ... -1.286751  2.143005 -0.495225\n",
              "21.0   0.342001      0.134674          0.057766  ...  0.774676 -0.465148 -0.495225\n",
              "29.8  -0.587727     -0.390312         -0.330907  ... -1.286751 -0.465148  2.012852\n",
              "31.0  -1.191571     -1.046546         -1.442415  ... -1.286751 -0.465148  2.012852\n",
              "13.0   1.961837      1.184647          1.746357  ...  0.774676 -0.465148 -0.495225\n",
              "16.0   1.175881      1.184647          1.421674  ...  0.774676 -0.465148 -0.495225\n",
              "14.0   2.479417      3.022100          1.616010  ...  0.774676 -0.465148 -0.495225\n",
              "15.0   1.482595      1.578387          0.832740  ...  0.774676 -0.465148 -0.495225\n",
              "44.6  -0.999874     -0.994047         -1.351171  ... -1.286751 -0.465148  2.012852\n",
              "31.3  -0.721914     -0.784052         -0.531168  ... -1.286751 -0.465148  2.012852\n",
              "16.0   1.022524      0.922154          1.363610  ...  0.774676 -0.465148 -0.495225\n",
              "29.0  -0.942365     -0.705304         -1.244523  ... -1.286751  2.143005 -0.495225\n",
              "16.0   1.492180      1.158398          1.593495  ...  0.774676 -0.465148 -0.495225\n",
              "29.0  -0.578142     -0.547808         -0.551312  ...  0.774676 -0.465148 -0.495225\n",
              "13.0   1.482595      1.184647          2.024827  ...  0.774676 -0.465148 -0.495225\n",
              "17.5   1.051278      1.053401          1.054331  ...  0.774676 -0.465148 -0.495225\n",
              "18.0   0.351586     -0.127819         -0.238478  ...  0.774676 -0.465148 -0.495225\n",
              "26.0  -0.760254     -0.784052         -0.881921  ... -1.286751  2.143005 -0.495225\n",
              "15.0   1.798895      1.709634          0.678693  ...  0.774676 -0.465148 -0.495225\n",
              "10.0   1.070448      2.497114          1.642079  ...  0.774676 -0.465148 -0.495225\n",
              "\n",
              "[53 rows x 8 columns]"
            ]
          },
          "metadata": {
            "tags": []
          },
          "execution_count": 71
        }
      ]
    },
    {
      "cell_type": "markdown",
      "metadata": {
        "id": "sMop_QLLdlrO",
        "colab_type": "text"
      },
      "source": [
        "## 모델 훈련"
      ]
    },
    {
      "cell_type": "code",
      "metadata": {
        "id": "Qo8F7uvxcTmA",
        "colab_type": "code",
        "colab": {
          "base_uri": "https://localhost:8080/",
          "height": 223
        },
        "outputId": "ca1caecd-a9b1-4907-ce5d-90b95b2adf7c"
      },
      "source": [
        "# 에포크가 끝날 때마다 점(.)을 출력해 훈련 과정을 표시합니다.\n",
        "class PrintDot(keras.callbacks.Callback):\n",
        "  def on_epoch_end(self, epoch, logs):\n",
        "    if epoch % 100 == 0: print('')\n",
        "    print('.', end='')\n",
        "\n",
        "EPOCHS = 1000\n",
        "\n",
        "history = model.fit(\n",
        "    normed_train_data, train_labels,\n",
        "    epochs=EPOCHS, validation_split=0.2,\n",
        "    verbose=0, callbacks=[PrintDot()]\n",
        ")"
      ],
      "execution_count": 73,
      "outputs": [
        {
          "output_type": "stream",
          "text": [
            "\n",
            "....................................................................................................\n",
            "....................................................................................................\n",
            "....................................................................................................\n",
            "....................................................................................................\n",
            "....................................................................................................\n",
            "....................................................................................................\n",
            "....................................................................................................\n",
            "....................................................................................................\n",
            "....................................................................................................\n",
            "...................................................................................................."
          ],
          "name": "stdout"
        }
      ]
    },
    {
      "cell_type": "code",
      "metadata": {
        "id": "C61vFyB2eYBW",
        "colab_type": "code",
        "colab": {
          "base_uri": "https://localhost:8080/",
          "height": 202
        },
        "outputId": "d7eefe1e-360c-469d-dc67-e250e4be6b62"
      },
      "source": [
        "hist = pd.DataFrame(history.history)\n",
        "hist['epoch'] = history.epoch\n",
        "hist.tail()"
      ],
      "execution_count": 74,
      "outputs": [
        {
          "output_type": "execute_result",
          "data": {
            "text/html": [
              "<div>\n",
              "<style scoped>\n",
              "    .dataframe tbody tr th:only-of-type {\n",
              "        vertical-align: middle;\n",
              "    }\n",
              "\n",
              "    .dataframe tbody tr th {\n",
              "        vertical-align: top;\n",
              "    }\n",
              "\n",
              "    .dataframe thead th {\n",
              "        text-align: right;\n",
              "    }\n",
              "</style>\n",
              "<table border=\"1\" class=\"dataframe\">\n",
              "  <thead>\n",
              "    <tr style=\"text-align: right;\">\n",
              "      <th></th>\n",
              "      <th>loss</th>\n",
              "      <th>mae</th>\n",
              "      <th>mse</th>\n",
              "      <th>val_loss</th>\n",
              "      <th>val_mae</th>\n",
              "      <th>val_mse</th>\n",
              "      <th>epoch</th>\n",
              "    </tr>\n",
              "  </thead>\n",
              "  <tbody>\n",
              "    <tr>\n",
              "      <th>995</th>\n",
              "      <td>0.024540</td>\n",
              "      <td>0.115805</td>\n",
              "      <td>0.024540</td>\n",
              "      <td>0.097824</td>\n",
              "      <td>0.205993</td>\n",
              "      <td>0.097824</td>\n",
              "      <td>995</td>\n",
              "    </tr>\n",
              "    <tr>\n",
              "      <th>996</th>\n",
              "      <td>0.032733</td>\n",
              "      <td>0.134197</td>\n",
              "      <td>0.032733</td>\n",
              "      <td>0.119536</td>\n",
              "      <td>0.247327</td>\n",
              "      <td>0.119536</td>\n",
              "      <td>996</td>\n",
              "    </tr>\n",
              "    <tr>\n",
              "      <th>997</th>\n",
              "      <td>0.019028</td>\n",
              "      <td>0.088050</td>\n",
              "      <td>0.019028</td>\n",
              "      <td>0.100525</td>\n",
              "      <td>0.212358</td>\n",
              "      <td>0.100525</td>\n",
              "      <td>997</td>\n",
              "    </tr>\n",
              "    <tr>\n",
              "      <th>998</th>\n",
              "      <td>0.034244</td>\n",
              "      <td>0.133852</td>\n",
              "      <td>0.034244</td>\n",
              "      <td>0.093776</td>\n",
              "      <td>0.197127</td>\n",
              "      <td>0.093776</td>\n",
              "      <td>998</td>\n",
              "    </tr>\n",
              "    <tr>\n",
              "      <th>999</th>\n",
              "      <td>0.014304</td>\n",
              "      <td>0.077634</td>\n",
              "      <td>0.014304</td>\n",
              "      <td>0.094417</td>\n",
              "      <td>0.200948</td>\n",
              "      <td>0.094417</td>\n",
              "      <td>999</td>\n",
              "    </tr>\n",
              "  </tbody>\n",
              "</table>\n",
              "</div>"
            ],
            "text/plain": [
              "         loss       mae       mse  val_loss   val_mae   val_mse  epoch\n",
              "995  0.024540  0.115805  0.024540  0.097824  0.205993  0.097824    995\n",
              "996  0.032733  0.134197  0.032733  0.119536  0.247327  0.119536    996\n",
              "997  0.019028  0.088050  0.019028  0.100525  0.212358  0.100525    997\n",
              "998  0.034244  0.133852  0.034244  0.093776  0.197127  0.093776    998\n",
              "999  0.014304  0.077634  0.014304  0.094417  0.200948  0.094417    999"
            ]
          },
          "metadata": {
            "tags": []
          },
          "execution_count": 74
        }
      ]
    },
    {
      "cell_type": "code",
      "metadata": {
        "id": "LN4j4-5xer7E",
        "colab_type": "code",
        "colab": {}
      },
      "source": [
        "import matplotlib.pyplot as plt"
      ],
      "execution_count": 0,
      "outputs": []
    },
    {
      "cell_type": "code",
      "metadata": {
        "id": "pNV3WCGGgmQH",
        "colab_type": "code",
        "colab": {
          "base_uri": "https://localhost:8080/",
          "height": 718
        },
        "outputId": "573d76ee-b8ab-48df-a2b9-d3dd1285855b"
      },
      "source": [
        "def plot_history(history):\n",
        "  hist = pd.DataFrame(history.history)\n",
        "  hist['epoch'] = history.epoch\n",
        "\n",
        "  plt.figure(figsize=(8, 12))\n",
        "\n",
        "  plt.subplot(2, 1, 1)\n",
        "  plt.xlabel('Epoch')\n",
        "  plt.ylabel('Means Abs Error [MPG]')\n",
        "  plt.plot(hist['epoch'], hist['mae'], label='Train Error')\n",
        "  plt.plot(hist['epoch'], hist['val_mae'], label='Val Error')\n",
        "  plt.ylim([0, 5])\n",
        "  plt.legend()\n",
        "\n",
        "  plt.subplot(2, 1, 2)\n",
        "  plt.xlabel('Epoch')\n",
        "  plt.ylabel('Mean Squared Error [MPG]')\n",
        "  plt.plot(hist['epoch'], hist['mse'], label='Train Error')\n",
        "  plt.plot(hist['epoch'], hist['val_mse'], label='Val Error')\n",
        "  plt.ylim([0, 20])\n",
        "  plt.legend()\n",
        "  plt.show()\n",
        "\n",
        "plot_history(history)"
      ],
      "execution_count": 76,
      "outputs": [
        {
          "output_type": "display_data",
          "data": {
            "image/png": "[encoded data removed]",
            "text/plain": [
              "<Figure size 576x864 with 2 Axes>"
            ]
          },
          "metadata": {
            "tags": []
          }
        }
      ]
    },
    {
      "cell_type": "code",
      "metadata": {
        "id": "M_D4Ie-BiNl4",
        "colab_type": "code",
        "colab": {
          "base_uri": "https://localhost:8080/",
          "height": 755
        },
        "outputId": "bef47072-bf94-4186-a03f-1bf0ff57e8eb"
      },
      "source": [
        "model = build_model()\n",
        "\n",
        "# patience 매개변수는 성능 향상을 체크할 에포크 횟수입니다.\n",
        "early_stop = keras.callbacks.EarlyStopping(monitor='val_loss', patience=10)\n",
        "\n",
        "history = model.fit(normed_train_data, train_labels, epochs=EPOCHS,\n",
        "                    validation_split=0.2, verbose=0, callbacks=[early_stop, PrintDot()])\n",
        "\n",
        "plot_history(history)"
      ],
      "execution_count": 77,
      "outputs": [
        {
          "output_type": "stream",
          "text": [
            "\n",
            "..............................................................."
          ],
          "name": "stdout"
        },
        {
          "output_type": "display_data",
          "data": {
            "image/png": "[encoded data removed]",
            "text/plain": [
              "<Figure size 576x864 with 2 Axes>"
            ]
          },
          "metadata": {
            "tags": []
          }
        }
      ]
    },
    {
      "cell_type": "code",
      "metadata": {
        "id": "lHpZpAAijRAG",
        "colab_type": "code",
        "colab": {
          "base_uri": "https://localhost:8080/",
          "height": 55
        },
        "outputId": "088be6d4-a5a6-47a4-a38a-d7e1d7067929"
      },
      "source": [
        "loss, mae, mse = model.evaluate(normed_test_data, test_labels, verbose=2)\n",
        "\n",
        "print(\"테스트 세트의 평균 절대 오차: {:5.2f} MPG\".format(mae))"
      ],
      "execution_count": 78,
      "outputs": [
        {
          "output_type": "stream",
          "text": [
            "22/22 - 0s - loss: 0.2649 - mae: 0.3714 - mse: 0.2649\n",
            "테스트 세트의 평균 절대 오차:  0.37 MPG\n"
          ],
          "name": "stdout"
        }
      ]
    },
    {
      "cell_type": "markdown",
      "metadata": {
        "id": "dDYDNy5cjlVs",
        "colab_type": "text"
      },
      "source": [
        "# 예측"
      ]
    },
    {
      "cell_type": "code",
      "metadata": {
        "id": "TqvGp-UMjadD",
        "colab_type": "code",
        "colab": {}
      },
      "source": [
        "test_predictons = model.predict(normed_test_data).flatten()"
      ],
      "execution_count": 0,
      "outputs": []
    },
    {
      "cell_type": "code",
      "metadata": {
        "id": "jfNyBEWkkDzx",
        "colab_type": "code",
        "colab": {
          "base_uri": "https://localhost:8080/",
          "height": 279
        },
        "outputId": "926fc91d-f1bb-4bcd-d473-d1146d7892b9"
      },
      "source": [
        "plt.scatter(test_labels, test_predictons)\n",
        "plt.xlabel('True Values [MPG]')\n",
        "plt.ylabel('Predictions [MPG]')\n",
        "plt.axis('equal')\n",
        "plt.axis('square')\n",
        "plt.xlim([0, plt.xlim()[1]])\n",
        "plt.ylim([0, plt.ylim()[1]])\n",
        "_ = plt.plot([-100, 100], [-100, 100])"
      ],
      "execution_count": 87,
      "outputs": [
        {
          "output_type": "display_data",
          "data": {
            "image/png": "[encoded data removed]",
            "text/plain": [
              "<Figure size 432x288 with 1 Axes>"
            ]
          },
          "metadata": {
            "tags": []
          }
        }
      ]
    },
    {
      "cell_type": "code",
      "metadata": {
        "id": "gLwsuRSLkJie",
        "colab_type": "code",
        "colab": {}
      },
      "source": [
        "error = test_predictons - test_labels"
      ],
      "execution_count": 0,
      "outputs": []
    },
    {
      "cell_type": "code",
      "metadata": {
        "id": "5xUAQC3hlHgF",
        "colab_type": "code",
        "colab": {
          "base_uri": "https://localhost:8080/",
          "height": 447
        },
        "outputId": "d9d1d47f-8fa4-49fd-f06d-a50d963c5b9c"
      },
      "source": [
        "error"
      ],
      "execution_count": 89,
      "outputs": [
        {
          "output_type": "execute_result",
          "data": {
            "text/plain": [
              "9.0     1.042880\n",
              "22.5   -0.256308\n",
              "43.1   -0.068543\n",
              "32.8   -0.038623\n",
              "20.8   -0.701241\n",
              "27.5    0.417985\n",
              "30.9   -0.192855\n",
              "31.9    0.036816\n",
              "34.1   -0.224216\n",
              "19.1    0.000690\n",
              "27.9    0.522535\n",
              "44.3    0.037625\n",
              "26.6    0.220212\n",
              "23.5   -0.908364\n",
              "39.1   -0.197551\n",
              "34.1   -0.116344\n",
              "34.4   -0.245094\n",
              "28.1    1.254407\n",
              "22.4    0.336366\n",
              "26.6    0.928872\n",
              "34.0   -0.292957\n",
              "34.0    0.131236\n",
              "Name: MPG, dtype: float64"
            ]
          },
          "metadata": {
            "tags": []
          },
          "execution_count": 89
        }
      ]
    },
    {
      "cell_type": "code",
      "metadata": {
        "id": "qk293tlLlIyw",
        "colab_type": "code",
        "colab": {
          "base_uri": "https://localhost:8080/",
          "height": 279
        },
        "outputId": "c96dd483-5f24-417c-b2db-cf3eab323336"
      },
      "source": [
        "plt.hist(error, bins=25)\n",
        "plt.xlabel('Prediction Error [MPG]')\n",
        "_ = plt.ylabel(\"Count\")"
      ],
      "execution_count": 91,
      "outputs": [
        {
          "output_type": "display_data",
          "data": {
            "image/png": "[encoded data removed]",
            "text/plain": [
              "<Figure size 432x288 with 1 Axes>"
            ]
          },
          "metadata": {
            "tags": []
          }
        }
      ]
    },
    {
      "cell_type": "markdown",
      "metadata": {
        "id": "Y8qgGXyxl0bH",
        "colab_type": "text"
      },
      "source": [
        "# 결론\n",
        "비슷하게 회귀에서 사용되는 평가 지표도 분류와 다릅니다. \n",
        "\n",
        "많이 사용하는 회귀 지표는 평균 절댓값 오차(MAE)입니다.\n",
        "수치 입력 데이터의 특성이 여러 가지 범위를 가질 때 동일한 범위가 되도록 각 특성의 스케일을 독립적으로 조정해야 합니다.\n",
        "\n",
        "훈련 데이터가 많지 않다면 과대적합을 피하기 위해 은닉층의 개수가 적은 소규모 네트워크를 선택하는 방법이 좋습니다.\n",
        "\n",
        "조기 종료(Early stopping)은 과대적합을 방지하기 위한 좋은 방법입니다."
      ]
    },
    {
      "cell_type": "code",
      "metadata": {
        "id": "4gE4vZRWlN2q",
        "colab_type": "code",
        "colab": {}
      },
      "source": [
        ""
      ],
      "execution_count": 0,
      "outputs": []
    }
  ]
}